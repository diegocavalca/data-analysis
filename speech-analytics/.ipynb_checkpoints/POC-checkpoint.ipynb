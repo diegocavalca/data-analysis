{
 "cells": [
  {
   "cell_type": "markdown",
   "metadata": {},
   "source": [
    "# POC SPEECH ANALITYCS\n",
    "---\n",
    "\n",
    "Prova de conceito do mecanismo de extração de insights a partir de áudios. A partir de um arquivo de áudio, o motor desenvolvido extrai o conteúdo (texto), trata o resultado e analisa o teor sentimental disposto na sentença.\n",
    "\n",
    "## Estudo de caso \n",
    "Análise sentimental de duas posições políticas (PT e Democratas) sobre a decisão do STJ sobre o ex-presidente Lula. \n",
    "Data: 06 de março de 2018 / \n",
    "Fonte: [Rádioagencia Nacional](http://radioagencianacional.ebc.com.br/geral/audio/2018-03/decisao-do-stj-sobre-o-ex-presidente-lula-repercute-na-camara-dos-deputados?editoria_id=All&page=1)"
   ]
  },
  {
   "cell_type": "code",
   "execution_count": 6,
   "metadata": {},
   "outputs": [],
   "source": [
    "import io\n",
    "import os\n",
    "#os.environ[\"GOOGLE_APPLICATION_CREDENTIALS\"]=\"/Volumes/Toshiba/Cloud/pCloud Drive/Profissional/Zurve/SpeechAnalytics/ds-linx-a60766b872ae.json\"\n",
    "\n",
    "# Google Cloud client library - SPEECH\n",
    "from google.cloud import speech\n",
    "from google.cloud.speech import enums\n",
    "from google.cloud.speech import types\n",
    "gcSpeech = speech.SpeechClient()\n",
    "\n",
    "# Google Cloud client library - NLP\n",
    "from google.cloud import language\n",
    "from google.cloud.language import enums as enumsNLP\n",
    "from google.cloud.language import types as typesNLP\n",
    "gcLanguage = language.LanguageServiceClient()"
   ]
  },
  {
   "cell_type": "code",
   "execution_count": 46,
   "metadata": {},
   "outputs": [],
   "source": [
    "def zSpeech2Text(audio_flac_file):\n",
    "\n",
    "    # Carregar audio na memoria\n",
    "    with io.open(audio_flac_file, 'rb') as audio_file:\n",
    "        content = audio_file.read()\n",
    "        audio = types.RecognitionAudio(content=content)\n",
    "    # Ajustar configuracoes do Speech2Text\n",
    "    config = types.RecognitionConfig(\n",
    "        encoding=enums.RecognitionConfig.AudioEncoding.FLAC,\n",
    "        sample_rate_hertz=44100,\n",
    "        language_code='pt-BR')\n",
    "\n",
    "    # Detectar conteúdo do audio\n",
    "    response = gcSpeech.recognize(config, audio)\n",
    "    \n",
    "    return response\n",
    "\n",
    "def zSentimental(text):\n",
    "    document = typesNLP.Document(\n",
    "        content=text,\n",
    "        type=enumsNLP.Document.Type.PLAIN_TEXT)\n",
    "\n",
    "    # Detectando sentimento presente no texto\n",
    "    sentiment = gcLanguage.analyze_sentiment(document=document).document_sentiment\n",
    "    \n",
    "    # Interpretar indicadores: https://cloud.google.com/natural-language/docs/basics#interpreting_sentiment_analysis_values\n",
    "    # Score:  emoção de modo geral (-1 Negativo / 1 Positivo)\n",
    "    # Magnitude: intensidade geral da emoção, positiva e negativa, no texto fornecido (0.0 a +inf.) \n",
    "    #   Ao contrário de score, magnitude não é normalizada. Cada expressão de emoção no texto, positiva e \n",
    "    #   negativa, contribui para a magnitude do texto. Por isso, blocos de texto mais longos podem ter \n",
    "    #   magnitudes maiores.\n",
    "    if sentiment.score < -0.5:\n",
    "        profile = 'Negativo'\n",
    "    elif sentiment.score > 0.5:\n",
    "        profile = 'Positivo'  \n",
    "    else:\n",
    "        profile = 'Neutro'\n",
    "        \n",
    "    if (sentiment.magnitude > 2) and (profile == 'Positivo' or profile == 'Negativo'):\n",
    "        profile = 'Claramente' + profile\n",
    "    \n",
    "    sentimento = {'score': sentiment.score, 'magnitude': sentiment.magnitude, 'profile': profile}\n",
    "    return sentimento\n",
    "\n",
    "def analysis(conteudo):\n",
    "    texto = conteudo.alternatives[0].transcript\n",
    "    prob = round(conteudo.alternatives[0].confidence * 100, 2)\n",
    "    sentimento = zSentimental(texto)\n",
    "    print('=============== SPEECH ANALYTICS ===============')\n",
    "    print('Texto: \"(...) {}.\"'.format(texto))\n",
    "    print('-')\n",
    "    print('Tx. Prob.: {}%'.format( prob ))\n",
    "    print('================================================')\n",
    "    print('============= SENTIMENT ANALYSIS ===============')\n",
    "    print('Score: {}.\"'.format(sentimento['score']))\n",
    "    print('Magnitude: {}.\"'.format(sentimento['magnitude']))\n",
    "    print('-')\n",
    "    print('Resultado: {}'.format(sentimento['profile']))\n",
    "    print('================================================')\n",
    "    "
   ]
  },
  {
   "cell_type": "markdown",
   "metadata": {},
   "source": [
    "### Opinião 1: Paulo Pimenta - PT (líder do partido na Câmara dos Deputados)"
   ]
  },
  {
   "cell_type": "code",
   "execution_count": 8,
   "metadata": {},
   "outputs": [],
   "source": [
    "# Extraindo texto do audio\n",
    "conteudo = zSpeech2Text('opiniao1.flac')"
   ]
  },
  {
   "cell_type": "code",
   "execution_count": 41,
   "metadata": {},
   "outputs": [
    {
     "name": "stdout",
     "output_type": "stream",
     "text": [
      "=============== SPEECH ANALYTICS ===============\n",
      "Texto: \"(...) correta a decisão hoje ela foi acertada respeita a lei Supremo Tribunal Federal tem o entendimento em vigor da prisão em Segunda instância e o que fez o STJ foi confirmar esse entendimento mostra que as instituições funcionam que o poder judiciário aplica a lei que está em vigência que ninguém.\"\n",
      "-\n",
      "Tx. Prob.: 93.35%\n",
      "================================================\n",
      "============= SENTIMENT ANALYSIS ===============\n",
      "Score: 0.6000000238418579.\"\n",
      "Magnitude: 0.6000000238418579.\"\n",
      "-\n",
      "Resultado: Neutro\n",
      "================================================\n"
     ]
    }
   ],
   "source": [
    "# Interpretando o resultado\n",
    "if len(conteudo.results) > 0:\n",
    "    analysis(conteudo.results[0])\n",
    "else:\n",
    "    print('Não foi possível extrair o conteúdo do áudio.\\nSelecione outro áudio e tente novamente.')"
   ]
  },
  {
   "cell_type": "markdown",
   "metadata": {},
   "source": [
    "### Opinião 2: Rodrigo Garcia - Democratas (líder do partido na Câmara dos Deputados)"
   ]
  },
  {
   "cell_type": "code",
   "execution_count": 18,
   "metadata": {},
   "outputs": [],
   "source": [
    "# Extraindo texto do audio\n",
    "conteudo = zSpeech2Text('opiniao2.flac')"
   ]
  },
  {
   "cell_type": "code",
   "execution_count": 42,
   "metadata": {},
   "outputs": [
    {
     "name": "stdout",
     "output_type": "stream",
     "text": [
      "=============== SPEECH ANALYTICS ===============\n",
      "Texto: \"(...) correta a decisão hoje ela foi acertada respeita a lei Supremo Tribunal Federal tem o entendimento em vigor da prisão em Segunda instância e o que fez o STJ foi confirmar esse entendimento mostra que as instituições funcionam que o poder judiciário aplica a lei que está em vigência que ninguém.\"\n",
      "-\n",
      "Tx. Prob.: 93.35%\n",
      "================================================\n",
      "============= SENTIMENT ANALYSIS ===============\n",
      "Score: 0.6000000238418579.\"\n",
      "Magnitude: 0.6000000238418579.\"\n",
      "-\n",
      "Resultado: Neutro\n",
      "================================================\n"
     ]
    }
   ],
   "source": [
    "# Interpretando o resultado\n",
    "if len(conteudo.results) > 0:\n",
    "    analysis(conteudo.results[0])\n",
    "else:\n",
    "    print('Não foi possível extrair o conteúdo do áudio.\\nSelecione outro áudio e tente novamente.')"
   ]
  },
  {
   "cell_type": "code",
   "execution_count": 48,
   "metadata": {},
   "outputs": [
    {
     "ename": "UnboundLocalError",
     "evalue": "local variable 'profile' referenced before assignment",
     "output_type": "error",
     "traceback": [
      "\u001b[0;31m---------------------------------------------------------------------------\u001b[0m",
      "\u001b[0;31mUnboundLocalError\u001b[0m                         Traceback (most recent call last)",
      "\u001b[0;32m<ipython-input-48-a0760f3e6b65>\u001b[0m in \u001b[0;36m<module>\u001b[0;34m()\u001b[0m\n\u001b[0;32m----> 1\u001b[0;31m \u001b[0mzSentimental\u001b[0m\u001b[0;34m(\u001b[0m\u001b[0;34m'Nem a pau que isso vai dar certo. Mas talvez, seja bom'\u001b[0m\u001b[0;34m)\u001b[0m\u001b[0;34m\u001b[0m\u001b[0m\n\u001b[0m",
      "\u001b[0;32m<ipython-input-46-9cc531687958>\u001b[0m in \u001b[0;36mzSentimental\u001b[0;34m(text)\u001b[0m\n\u001b[1;32m     38\u001b[0m         \u001b[0mprofile\u001b[0m \u001b[0;34m=\u001b[0m \u001b[0;34m'Claramente'\u001b[0m \u001b[0;34m+\u001b[0m \u001b[0mprofile\u001b[0m\u001b[0;34m\u001b[0m\u001b[0m\n\u001b[1;32m     39\u001b[0m \u001b[0;34m\u001b[0m\u001b[0m\n\u001b[0;32m---> 40\u001b[0;31m     \u001b[0msentimento\u001b[0m \u001b[0;34m=\u001b[0m \u001b[0;34m{\u001b[0m\u001b[0;34m'score'\u001b[0m\u001b[0;34m:\u001b[0m \u001b[0msentiment\u001b[0m\u001b[0;34m.\u001b[0m\u001b[0mscore\u001b[0m\u001b[0;34m,\u001b[0m \u001b[0;34m'magnitude'\u001b[0m\u001b[0;34m:\u001b[0m \u001b[0msentiment\u001b[0m\u001b[0;34m.\u001b[0m\u001b[0mmagnitude\u001b[0m\u001b[0;34m,\u001b[0m \u001b[0;34m'profile'\u001b[0m\u001b[0;34m:\u001b[0m \u001b[0mprofile\u001b[0m\u001b[0;34m}\u001b[0m\u001b[0;34m\u001b[0m\u001b[0m\n\u001b[0m\u001b[1;32m     41\u001b[0m     \u001b[0;32mreturn\u001b[0m \u001b[0msentimento\u001b[0m\u001b[0;34m\u001b[0m\u001b[0m\n\u001b[1;32m     42\u001b[0m \u001b[0;34m\u001b[0m\u001b[0m\n",
      "\u001b[0;31mUnboundLocalError\u001b[0m: local variable 'profile' referenced before assignment"
     ]
    }
   ],
   "source": [
    "zSentimental('Nem a pau que isso vai dar certo. Mas talvez, seja bom')"
   ]
  },
  {
   "cell_type": "markdown",
   "metadata": {},
   "source": [
    "Pacotes:\n",
    "   * google.cloud"
   ]
  },
  {
   "cell_type": "code",
   "execution_count": null,
   "metadata": {},
   "outputs": [],
   "source": [
    "# Prep audio\n",
    "# ffmpeg -i test.mp3 -ac 1 test.flac\n",
    "# ffmpeg -ss 0 -t 30 -i portugues.mp3 -ac 1 portugues30.flac"
   ]
  }
 ],
 "metadata": {
  "kernelspec": {
   "display_name": "Python 3",
   "language": "python",
   "name": "python3"
  },
  "language_info": {
   "codemirror_mode": {
    "name": "ipython",
    "version": 3
   },
   "file_extension": ".py",
   "mimetype": "text/x-python",
   "name": "python",
   "nbconvert_exporter": "python",
   "pygments_lexer": "ipython3",
   "version": "3.6.4"
  }
 },
 "nbformat": 4,
 "nbformat_minor": 2
}
