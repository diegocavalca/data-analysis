{
 "cells": [
  {
   "cell_type": "code",
   "execution_count": 20,
   "metadata": {
    "collapsed": true
   },
   "outputs": [],
   "source": [
    "import numpy as np\n",
    "import pandas as pd\n",
    "\n",
    "import pickle \n",
    "\n",
    "from sklearn import metrics"
   ]
  },
  {
   "cell_type": "code",
   "execution_count": 96,
   "metadata": {},
   "outputs": [
    {
     "name": "stdout",
     "output_type": "stream",
     "text": [
      "(2880, 861750) (2880,)\n",
      "(320, 861750) (320,)\n"
     ]
    }
   ],
   "source": [
    "# Load the data\n",
    "df = pd.read_csv('input/dataset.csv')\n",
    "\n",
    "# with open('input/X_train.dat', 'rb') as file:\n",
    "#     X_train = pickle.load(file)\n",
    "# with open('input/y_train.dat', 'rb') as file:\n",
    "#     y_train = pickle.load(file)\n",
    "with open('input/X_test.dat', 'rb') as file:\n",
    "    X_test = pickle.load(file)\n",
    "with open('input/y_test.dat', 'rb') as file:\n",
    "    y_test = pickle.load(file)\n",
    "    \n",
    "print(X_train.shape, y_train.shape)\n",
    "print(X_test.shape, y_test.shape)\n",
    "\n",
    "# Load classifier\n",
    "with open('clf_nb_tfid.pkl', 'rb') as fid:\n",
    "    clf = pickle.load(fid)"
   ]
  },
  {
   "cell_type": "code",
   "execution_count": 64,
   "metadata": {},
   "outputs": [
    {
     "data": {
      "text/plain": [
       "0.91249999999999998"
      ]
     },
     "execution_count": 64,
     "metadata": {},
     "output_type": "execute_result"
    }
   ],
   "source": [
    "# Testando classificador salvo\n",
    "y_pred = clf.predict(X_test)\n",
    "metrics.accuracy_score(y_test, y_pred)"
   ]
  },
  {
   "cell_type": "code",
   "execution_count": 97,
   "metadata": {},
   "outputs": [
    {
     "name": "stdout",
     "output_type": "stream",
     "text": [
      "Registro #1027 \n",
      " \n",
      "MC GW:\n",
      "E ae Pierre!\n",
      "MC Pierre:\n",
      "E aí GW, tranquilo?\n",
      "MC GW:\n",
      "Normal, você tá onde?\n",
      "MC Pierre:\n",
      "Tô saindo aqui do Budegas Bar, e tô indo lá pro Vitrine Show\n",
      "MC GW:\n",
      "Então, é isso aí mesmo, vou colar no Vitrine Show também, nós \"se tromba\" lá, demorou?\n",
      "MC Pierre:\n",
      "Valeu, nós se tromba lá parceiro, demorou!\n",
      "Tu tá maluca, achando que eu sou bobo?\n",
      "Ô mulher, tu quer mentir pra mentiroso?\n",
      "Ô mulher, tu quer mentir pra mentiroso?\n",
      "Ô mulher, tu quer mentir pra mentiroso?\n",
      "Falou que ia dormir, tá querendo me enganar\n",
      "Eu te avistei do camarote, na pista tu tá que tá\n",
      "Tá bebendo, se perdendo, tá achando que eu sou bobo?\n",
      "Ô mulher, tu quer mentir pra mentiroso? (3x)\n",
      "Tu tá descendo, tá subindo, rebolando o corpo todo\n",
      "Ô mulher, tu quer mentir pra mentiroso? (2x)\n",
      "Tu sentando desse jeito, tá delícia, tá gostoso\n",
      "Tá olhando pro DJ, tá achando que eu sou bobo\n",
      "É mais uma do Pierre, mexe (ou mete?) ae que tá gostoso\n",
      "Ô mulher, tu quer mentir pra mentiroso? (2x)  \n",
      "Gênero: funk\n"
     ]
    }
   ],
   "source": [
    "# Teste de workflow\n",
    "t = np.random.randint(df.shape[0])\n",
    "test = df.iloc[1027] # 1027\n",
    "print('Registro #%s \\n%s \\nGênero: %s' % ( test.name, test['lyric'], test['genre'] ) )"
   ]
  },
  {
   "cell_type": "code",
   "execution_count": null,
   "metadata": {},
   "outputs": [],
   "source": []
  },
  {
   "cell_type": "code",
   "execution_count": null,
   "metadata": {
    "collapsed": true
   },
   "outputs": [],
   "source": []
  }
 ],
 "metadata": {
  "kernelspec": {
   "display_name": "Python 3",
   "language": "python",
   "name": "python3"
  },
  "language_info": {
   "codemirror_mode": {
    "name": "ipython",
    "version": 3
   },
   "file_extension": ".py",
   "mimetype": "text/x-python",
   "name": "python",
   "nbconvert_exporter": "python",
   "pygments_lexer": "ipython3",
   "version": "3.6.1"
  }
 },
 "nbformat": 4,
 "nbformat_minor": 2
}
