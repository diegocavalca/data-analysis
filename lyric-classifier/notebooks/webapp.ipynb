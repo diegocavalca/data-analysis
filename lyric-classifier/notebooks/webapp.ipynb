{
 "cells": [
  {
   "cell_type": "code",
   "execution_count": 1,
   "metadata": {
    "collapsed": true
   },
   "outputs": [],
   "source": [
    "import itertools\n",
    "import numpy as np\n",
    "import pandas as pd\n",
    "\n",
    "import matplotlib\n",
    "import matplotlib.pyplot as plt\n",
    "%matplotlib inline\n",
    "\n",
    "import pickle \n",
    "\n",
    "from sklearn import metrics\n",
    "\n",
    "import nltk\n",
    "import string\n",
    "import re"
   ]
  },
  {
   "cell_type": "code",
   "execution_count": 2,
   "metadata": {},
   "outputs": [],
   "source": [
    "with open('../resources/stopwords.txt', 'r') as infile:\n",
    "    stopwords = infile.read().splitlines()\n",
    "# print('stop words %s ...' %stopwords[:5])\n",
    "\n",
    "# Extrair tokens das letras\n",
    "def tokenizer(text):\n",
    "    source = text.lower()\n",
    "    source = nltk.word_tokenize(source)\n",
    "    return source"
   ]
  },
  {
   "cell_type": "code",
   "execution_count": 3,
   "metadata": {},
   "outputs": [
    {
     "name": "stdout",
     "output_type": "stream",
     "text": [
      "(320, 861750) (320,)\n"
     ]
    }
   ],
   "source": [
    "# Load the data\n",
    "df = pd.read_csv('../input/dataset.csv')\n",
    "\n",
    "# with open('../input/X_train.dat', 'rb') as file:\n",
    "#     X_train = pickle.load(file)\n",
    "# with open('../input/y_train.dat', 'rb') as file:\n",
    "#     y_train = pickle.load(file)\n",
    "# print(X_train.shape, y_train.shape)\n",
    "with open('../input/X_test.dat', 'rb') as file:\n",
    "    X_test = pickle.load(file)\n",
    "with open('../input/y_test.dat', 'rb') as file:\n",
    "    y_test = pickle.load(file)\n",
    "print(X_test.shape, y_test.shape)\n",
    "\n",
    "# # Load vectorizer\n",
    "# with open('../resources/vectorizer.pkl', 'rb') as fid:\n",
    "#     vectorizer = pickle.load(fid)\n",
    "\n",
    "# Load classifier\n",
    "with open('../resources/classifier.pkl', 'rb') as fid:\n",
    "    clf = pickle.load(fid)"
   ]
  },
  {
   "cell_type": "code",
   "execution_count": 4,
   "metadata": {},
   "outputs": [
    {
     "name": "stdout",
     "output_type": "stream",
     "text": [
      "Acurácia do classificador: 91.25%\n"
     ]
    }
   ],
   "source": [
    "# Testando classificador salvo\n",
    "y_pred = clf.predict(X_test)\n",
    "\n",
    "# Acurácia do modelo\n",
    "print( 'Acurácia do classificador: %.2f%%' % (metrics.accuracy_score(y_test, y_pred)*100) )"
   ]
  },
  {
   "cell_type": "code",
   "execution_count": 5,
   "metadata": {
    "collapsed": true
   },
   "outputs": [],
   "source": [
    "# # Teste de workflow\n",
    "# for t in range(0, X_test.shape[0]):\n",
    "#     test  = X_test[t,:]\n",
    "#     genre = y_test[t]\n",
    "\n",
    "#     y_pred = clf.predict(test)\n",
    "#     if (y_pred[0] != genre):\n",
    "#         print('\\nErro no Registro #%s' % t)\n",
    "#         print('Correto: ' + genre)\n",
    "#         print('Predito: ' + y_pred[0])"
   ]
  },
  {
   "cell_type": "code",
   "execution_count": 6,
   "metadata": {
    "collapsed": true
   },
   "outputs": [],
   "source": [
    "# # Teste de workflow\n",
    "# for x in range(0, 100):\n",
    "#     t = np.random.randint(df.shape[0])\n",
    "#     test = df.iloc[t] # 1027\n",
    "#     #print('Registro #%s \\n%s \\nGênero: %s' % ( test.name, test['lyric'], test['genre'] ) )\n",
    "\n",
    "#     print('\\nRegistro #%s' % test.name)\n",
    "#     print('Genero correto: ' + test['genre'])\n",
    "#     y_pred = clf.predict(vectorizer.transform(test))\n",
    "#     print('Predito: ' + y_pred[0])"
   ]
  }
 ],
 "metadata": {
  "kernelspec": {
   "display_name": "Python 3",
   "language": "python",
   "name": "python3"
  },
  "language_info": {
   "codemirror_mode": {
    "name": "ipython",
    "version": 3
   },
   "file_extension": ".py",
   "mimetype": "text/x-python",
   "name": "python",
   "nbconvert_exporter": "python",
   "pygments_lexer": "ipython3",
   "version": "3.6.1"
  }
 },
 "nbformat": 4,
 "nbformat_minor": 2
}
