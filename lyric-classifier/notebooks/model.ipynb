{
 "cells": [
  {
   "cell_type": "markdown",
   "metadata": {},
   "source": [
    "# Classificador de Gênero Musical\n",
    "---\n",
    "\n",
    "Utilizando apenas letras, classificar automaticamente músicas dentro dos gêneros 'Bossa Nova', 'Funk', 'Gospel' e 'Sertanejo'.\n"
   ]
  },
  {
   "cell_type": "markdown",
   "metadata": {},
   "source": [
    "## Bibliotecas e configurações básicas"
   ]
  },
  {
   "cell_type": "code",
   "execution_count": 1,
   "metadata": {
    "collapsed": true
   },
   "outputs": [],
   "source": [
    "import itertools\n",
    "import numpy as np\n",
    "import pandas as pd\n",
    "\n",
    "import matplotlib\n",
    "import matplotlib.pyplot as plt\n",
    "%matplotlib inline\n",
    "\n",
    "import nltk\n",
    "import string\n",
    "import re\n",
    "\n",
    "from sklearn import metrics\n",
    "from sklearn.model_selection import train_test_split\n",
    "from sklearn.metrics import confusion_matrix\n",
    "\n",
    "import pickle"
   ]
  },
  {
   "cell_type": "markdown",
   "metadata": {},
   "source": [
    "## Carregando dados\n",
    "___\n",
    "Preparados previamente em analysis.ipynb"
   ]
  },
  {
   "cell_type": "code",
   "execution_count": 2,
   "metadata": {},
   "outputs": [
    {
     "data": {
      "text/html": [
       "<div>\n",
       "<style>\n",
       "    .dataframe thead tr:only-child th {\n",
       "        text-align: right;\n",
       "    }\n",
       "\n",
       "    .dataframe thead th {\n",
       "        text-align: left;\n",
       "    }\n",
       "\n",
       "    .dataframe tbody tr th {\n",
       "        vertical-align: top;\n",
       "    }\n",
       "</style>\n",
       "<table border=\"1\" class=\"dataframe\">\n",
       "  <thead>\n",
       "    <tr style=\"text-align: right;\">\n",
       "      <th></th>\n",
       "      <th>lyric</th>\n",
       "      <th>genre</th>\n",
       "    </tr>\n",
       "  </thead>\n",
       "  <tbody>\n",
       "    <tr>\n",
       "      <th>0</th>\n",
       "      <td>Ah, é melhor deixar o amor em modo avião Dá ...</td>\n",
       "      <td>funk</td>\n",
       "    </tr>\n",
       "    <tr>\n",
       "      <th>1</th>\n",
       "      <td>Deus escreveu a tua história antes de você n...</td>\n",
       "      <td>gospel</td>\n",
       "    </tr>\n",
       "    <tr>\n",
       "      <th>2</th>\n",
       "      <td>Ele era só um menino, à frente daquele gigan...</td>\n",
       "      <td>gospel</td>\n",
       "    </tr>\n",
       "    <tr>\n",
       "      <th>3</th>\n",
       "      <td>Lágrimas de sofrimento rolam dentro de mim P...</td>\n",
       "      <td>funk</td>\n",
       "    </tr>\n",
       "    <tr>\n",
       "      <th>4</th>\n",
       "      <td>Deus enviou seu Filho amado, para morrer no ...</td>\n",
       "      <td>gospel</td>\n",
       "    </tr>\n",
       "    <tr>\n",
       "      <th>5</th>\n",
       "      <td>Luz das nações que dissipa as trevas Abre os...</td>\n",
       "      <td>gospel</td>\n",
       "    </tr>\n",
       "    <tr>\n",
       "      <th>6</th>\n",
       "      <td>Se você não me queria Não devia me procurar ...</td>\n",
       "      <td>bossa_nova</td>\n",
       "    </tr>\n",
       "    <tr>\n",
       "      <th>7</th>\n",
       "      <td>Quando você fica triste Desespero insiste em...</td>\n",
       "      <td>gospel</td>\n",
       "    </tr>\n",
       "    <tr>\n",
       "      <th>8</th>\n",
       "      <td>Quer saber, entre a gente nunca existiu segr...</td>\n",
       "      <td>sertanejo</td>\n",
       "    </tr>\n",
       "    <tr>\n",
       "      <th>9</th>\n",
       "      <td>Eu só queria te dizer, o quanto amo você Vim...</td>\n",
       "      <td>funk</td>\n",
       "    </tr>\n",
       "  </tbody>\n",
       "</table>\n",
       "</div>"
      ],
      "text/plain": [
       "                                               lyric       genre\n",
       "0    Ah, é melhor deixar o amor em modo avião Dá ...        funk\n",
       "1    Deus escreveu a tua história antes de você n...      gospel\n",
       "2    Ele era só um menino, à frente daquele gigan...      gospel\n",
       "3    Lágrimas de sofrimento rolam dentro de mim P...        funk\n",
       "4    Deus enviou seu Filho amado, para morrer no ...      gospel\n",
       "5    Luz das nações que dissipa as trevas Abre os...      gospel\n",
       "6    Se você não me queria Não devia me procurar ...  bossa_nova\n",
       "7    Quando você fica triste Desespero insiste em...      gospel\n",
       "8    Quer saber, entre a gente nunca existiu segr...   sertanejo\n",
       "9    Eu só queria te dizer, o quanto amo você Vim...        funk"
      ]
     },
     "execution_count": 2,
     "metadata": {},
     "output_type": "execute_result"
    }
   ],
   "source": [
    "df = pd.read_csv('../input/dataset.csv')\n",
    "df.head(10)"
   ]
  },
  {
   "cell_type": "markdown",
   "metadata": {},
   "source": [
    "## Funções básicas NLP\n",
    "---\n",
    "Funções e recursos como Tokenizers e stopwords (EN e pt-BR)"
   ]
  },
  {
   "cell_type": "code",
   "execution_count": 3,
   "metadata": {
    "collapsed": true
   },
   "outputs": [],
   "source": [
    "# Estruturando stop words\n",
    "with open('../resources/stopwords.txt', 'r') as infile:\n",
    "    stopwords = infile.read().splitlines()\n",
    "# print('stop words %s ...' %stopwords[:5])\n",
    "\n",
    "# Extrair tokens das letras\n",
    "def tokenizer(text):\n",
    "    source = text.lower()\n",
    "    source = nltk.word_tokenize(source)\n",
    "    return source\n",
    "# tokens = tokenizer(\"Don't !!! --- want swimming. \")\n",
    "# print('tokens: ' + str(tokens) )"
   ]
  },
  {
   "cell_type": "markdown",
   "metadata": {},
   "source": [
    "## Preparando os dados para treinamento\n",
    "---\n",
    "\n",
    "Primeiro, para a representação do espaço dimensional, se utilizará o conceito de Bag of Words. Para tal, irá ser adotado a métrica de frequência de termos TF-IDF (conforme explicado no notebook 'analysis').<br>\n",
    "Por fim, com os dados preparados, é dividio o conjunto de dados entre treinamento e teste/validação, 90% e 10% das amostras respectivamente."
   ]
  },
  {
   "cell_type": "code",
   "execution_count": 4,
   "metadata": {},
   "outputs": [
    {
     "name": "stdout",
     "output_type": "stream",
     "text": [
      "(2880, 861750) (2880,)\n",
      "(320, 861750) (320,)\n"
     ]
    }
   ],
   "source": [
    "# Term Frequency Inverse Document Freq.(TF - Normalize Vectors, IDF: Penalize Frequent Words)\n",
    "from sklearn.feature_extraction.text import TfidfVectorizer\n",
    "\n",
    "vec = TfidfVectorizer(\n",
    "        encoding   = 'utf-8',\n",
    "        stop_words = stopwords,\n",
    "        tokenizer  = tokenizer,\n",
    "        ngram_range=(1, 4) ).fit(df['lyric'].values)\n",
    "\n",
    "X = vec.transform(df['lyric'].values) # Transforming\n",
    "y = df['genre'].values\n",
    "\n",
    "X_train, X_test, y_train, y_test = train_test_split(X, y, test_size=.1,  random_state=0)\n",
    "\n",
    "print(X_train.shape, y_train.shape)\n",
    "print(X_test.shape, y_test.shape)\n",
    "\n",
    "#data = pd.DataFrame(y_train)\n",
    "#data.groupby(0).size()"
   ]
  },
  {
   "cell_type": "code",
   "execution_count": 5,
   "metadata": {
    "collapsed": true
   },
   "outputs": [],
   "source": [
    "# # Salvando o vectorizer (webapp)\n",
    "# with open('../resources/vectorizer.pkl', 'wb') as outfile:\n",
    "#     pickle.dump(vec, outfile, pickle.HIGHEST_PROTOCOL)"
   ]
  },
  {
   "cell_type": "code",
   "execution_count": 6,
   "metadata": {
    "collapsed": true
   },
   "outputs": [],
   "source": [
    "# with open('../input/X_train.dat', 'wb') as outfile:\n",
    "#     pickle.dump(X_train, outfile, pickle.HIGHEST_PROTOCOL)\n",
    "# with open('../input/y_train.dat', 'wb') as outfile:\n",
    "#     pickle.dump(y_train, outfile, pickle.HIGHEST_PROTOCOL)\n",
    "    \n",
    "# with open('../input/X_test.dat', 'wb') as outfile:\n",
    "#     pickle.dump(X_test, outfile, pickle.HIGHEST_PROTOCOL)\n",
    "# with open('../input/y_test.dat', 'wb') as outfile:\n",
    "#     pickle.dump(y_test, outfile, pickle.HIGHEST_PROTOCOL)"
   ]
  },
  {
   "cell_type": "markdown",
   "metadata": {},
   "source": [
    "## Classificador"
   ]
  },
  {
   "cell_type": "markdown",
   "metadata": {},
   "source": [
    "### Naive Bayes (Multinomial)\n",
    "---\n",
    "Como o NB é um modelo probabilístico, este sofre com o caso de um termo não estar presente no corpus, resultando em P(g|t) = 0. Portanto, será considerado termo alpha como fator de alisamento do modelo n-grama. Em testes durante o treinamento, ajustou-se o alpha = .01, dado que tal valor mostrou-se como o mais eficiente considerando a acurácia do modelo."
   ]
  },
  {
   "cell_type": "code",
   "execution_count": 8,
   "metadata": {
    "collapsed": true
   },
   "outputs": [],
   "source": [
    "# Classificador: NaiveBayes (Multinomial with TFid)\n",
    "from sklearn.naive_bayes import MultinomialNB\n",
    "\n",
    "clf = MultinomialNB(alpha=.01).fit(X_train, y_train)"
   ]
  },
  {
   "cell_type": "code",
   "execution_count": 9,
   "metadata": {
    "collapsed": true
   },
   "outputs": [],
   "source": [
    "# # Salvando o classificador (webapp)\n",
    "# with open('../resources/classifier.pkl', 'wb') as outfile:\n",
    "#     pickle.dump(clf, outfile, pickle.HIGHEST_PROTOCOL)"
   ]
  },
  {
   "cell_type": "markdown",
   "metadata": {},
   "source": [
    "### Avaliando o classificador"
   ]
  },
  {
   "cell_type": "code",
   "execution_count": 10,
   "metadata": {},
   "outputs": [
    {
     "name": "stdout",
     "output_type": "stream",
     "text": [
      "Acurácia do classificador: 91.25%\n"
     ]
    },
    {
     "data": {
      "text/plain": [
       "<matplotlib.text.Text at 0x104ae4da0>"
      ]
     },
     "execution_count": 10,
     "metadata": {},
     "output_type": "execute_result"
    },
    {
     "data": {
      "image/png": "[encoded data removed]",
      "text/plain": [
       "<matplotlib.figure.Figure at 0x1109b38d0>"
      ]
     },
     "metadata": {},
     "output_type": "display_data"
    }
   ],
   "source": [
    "# Avaliacao do modelo\n",
    "y_pred = clf.predict(X_test)\n",
    "\n",
    "# Acurácia do modelo\n",
    "print( 'Acurácia do classificador: %.2f%%' % (metrics.accuracy_score(y_test, y_pred)*100) )\n",
    "\n",
    "# Matriz de confusão\n",
    "cm = metrics.confusion_matrix(y_test, y_pred)\n",
    "classes = list( df['genre'].unique() )\n",
    "plt.imshow(cm, cmap=plt.cm.Blues, aspect='auto')\n",
    "plt.colorbar()\n",
    "tick_marks = np.arange(len(classes))\n",
    "plt.xticks(tick_marks, classes, rotation=45)\n",
    "plt.yticks(tick_marks, classes)\n",
    "thresh = cm.max() / 2.\n",
    "for i, j in itertools.product(range(cm.shape[0]), range(cm.shape[1])):\n",
    "    plt.text(j, i, cm[i, j],\n",
    "             horizontalalignment=\"center\",\n",
    "             color=\"white\" if cm[i, j] > thresh else \"black\")\n",
    "plt.title('Matriz de Confusão')\n",
    "plt.ylabel('Gênero Original')\n",
    "plt.xlabel('Gênero Predito')"
   ]
  },
  {
   "cell_type": "markdown",
   "metadata": {},
   "source": [
    "## Conclusão\n",
    "---\n",
    "O modelo probabilístico de Naive Bayes se mostra eficiente para a resolução do problema de classificação de gênero musical baseado em letras, com uma taxa de precisão de ~90% obtido pelo classificador proposto. Conforme os testes destacaram, corroborando a liteturatura correlata, o processo de preparação e tratamento dos dados possui grande influência no resultado final do modelo.<br>\n",
    "Para a evolução do trabalho, a exploração adicional da preparação do conjunto de dados pode ser mais profundamente investigado. Por exemplo, seria interessante buscar padrões sintáticos que distinguem os gêneros, ou ainda avaliar outras abordagens no processo de criação de tokens, considerando outros n-gramas ou aplicar redução do radical aos termos do conjunto de dados. Além disso, conforme destacam alguns trabalhos recentes nesta área, a adoção de novos modelos que relevem o contexto semântico das composições, tal como Word2Vec, podem colaborar para a melhor dos resultados obtidos no problema de clâssificação de gênero musical baseado em letras."
   ]
  },
  {
   "cell_type": "markdown",
   "metadata": {},
   "source": [
    "## References\n",
    "\n",
    "* https://arxiv.org/pdf/1611.00138.pdf\n",
    "* http://scikit-learn.org/stable/tutorial/text_analytics/working_with_text_data.html\n",
    "* http://www.ritchieng.com/machine-learning-multinomial-naive-bayes-vectorization/\n",
    "* http://zacstewart.com/2015/04/28/document-classification-with-scikit-learn.html\n",
    "* https://www.reddit.com/r/MachineLearning/comments/2q2185/improving_naive_bayes_accuracy_for_text/\n",
    "* _\n",
    "* https://www.vooo.pro/insights/6-passos-faceis-para-aprender-o-algoritmo-naive-bayes-com-o-codigo-em-python/\n",
    "* https://www.ppgia.pucpr.br/~paraiso/mineracaodeemocoes/recursos/emocoesENIAC2013.pdf\n",
    "* _\n",
    "* https://www.serasaexperian.com.br/datalabs-noticias/padroes-em-sequencias-embeddings-e-word2vec/\n",
    "* _\n",
    "* https://spandan-madan.github.io/DeepLearningProject/\n",
    "* http://radimrehurek.com/data_science_python/"
   ]
  },
  {
   "cell_type": "code",
   "execution_count": 14,
   "metadata": {},
   "outputs": [
    {
     "name": "stderr",
     "output_type": "stream",
     "text": [
      "ERROR:root:Line magic function `%watermark` not found.\n"
     ]
    }
   ],
   "source": [
    "import watermark\n",
    "%watermark -d -v -a 'Diego Luiz Cavalca' -p sklearn,numpy,pandas,nltk"
   ]
  },
  {
   "cell_type": "code",
   "execution_count": null,
   "metadata": {
    "collapsed": true
   },
   "outputs": [],
   "source": []
  }
 ],
 "metadata": {
  "kernelspec": {
   "display_name": "Python 3",
   "language": "python",
   "name": "python3"
  },
  "language_info": {
   "codemirror_mode": {
    "name": "ipython",
    "version": 3
   },
   "file_extension": ".py",
   "mimetype": "text/x-python",
   "name": "python",
   "nbconvert_exporter": "python",
   "pygments_lexer": "ipython3",
   "version": "3.6.1"
  }
 },
 "nbformat": 4,
 "nbformat_minor": 2
}
