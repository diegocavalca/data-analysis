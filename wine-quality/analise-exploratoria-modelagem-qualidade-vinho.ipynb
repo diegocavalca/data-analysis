{
 "cells": [
  {
   "cell_type": "markdown",
   "metadata": {},
   "source": [
    "Análise Exploratória e Classificação de Vinhos com Machine Learning\n",
    "---"
   ]
  },
  {
   "cell_type": "markdown",
   "metadata": {},
   "source": [
    "Este notebook compreende uma avançada análise exploratória de dados para a construção de um classificador de documentos baseado em Aprendizado de Máquina (Machine Learning, ML).\n",
    "\n",
    "Em geral, o pipeline passa pelas seguintes etapas:\n",
    "\n",
    "    1. Coleta e preparação dos dados\n",
    "    2. Preparação do ambiente de experimentação\n",
    "    3. Análise exploratória dos documentos\n",
    "    4. Modelagem\n",
    "    5. Avaliação\n",
    "    6. Deploy"
   ]
  },
  {
   "cell_type": "markdown",
   "metadata": {},
   "source": [
    "# Descrição do Problema"
   ]
  },
  {
   "cell_type": "markdown",
   "metadata": {},
   "source": [
    "O presente problema se refere aos dados de vinhos portugueses \"Vinho Verde\", que possuem variantes de vinho branco e tinto.\n",
    "Devido a questões de privacidade, apenas variáveis físico-químicas (input) e sensoriais (output) estão disponíveis (por\n",
    "exemplo, não há dados sobre tipo de uva, marca do vinho, preço de venda, etc).\n",
    "\n",
    "**Informação sobre os atributos:**\n",
    "\n",
    "> Variáveis *input* (baseado em testes físico-químicos):\n",
    "    1. Tipo\n",
    "    2. Acidez fixa\n",
    "    3. Volatilidade da acidez\n",
    "    4. Ácido cítrico\n",
    "    5. Açúcar residual\n",
    "    6. Cloretos\n",
    "    7. Dióxido de enxofre livre\n",
    "    8. Dióxido de enxofre total\n",
    "    9. Densidade\n",
    "    10. pH\n",
    "    11. Sulfatos\n",
    "    12. Álcool\n",
    "\n",
    "> Variável *output* (baseado em dado sensorial):\n",
    "    13. Qualidade (score entre 0 and 10)\n",
    "\n",
    "**OBJETIVO:** Criar um modelo para estimar a qualidade do vinho. \n",
    "\n"
   ]
  },
  {
   "cell_type": "markdown",
   "metadata": {},
   "source": [
    "# Preparando Ambiente"
   ]
  },
  {
   "cell_type": "code",
   "execution_count": 1,
   "metadata": {
    "ExecuteTime": {
     "end_time": "2019-09-15T16:27:03.682615Z",
     "start_time": "2019-09-15T16:26:57.792966Z"
    }
   },
   "outputs": [
    {
     "data": {
      "text/html": [
       "        <script type=\"text/javascript\">\n",
       "        window.PlotlyConfig = {MathJaxConfig: 'local'};\n",
       "        if (window.MathJax) {MathJax.Hub.Config({SVG: {font: \"STIX-Web\"}});}\n",
       "        if (typeof require !== 'undefined') {\n",
       "        require.undef(\"plotly\");\n",
       "        requirejs.config({\n",
       "            paths: {\n",
       "                'plotly': ['https://cdn.plot.ly/plotly-latest.min']\n",
       "            }\n",
       "        });\n",
       "        require(['plotly'], function(Plotly) {\n",
       "            window._Plotly = Plotly;\n",
       "        });\n",
       "        }\n",
       "        </script>\n",
       "        "
      ]
     },
     "metadata": {},
     "output_type": "display_data"
    }
   ],
   "source": [
    "import pandas as pd\n",
    "import pandas_profiling\n",
    "\n",
    "import os \n",
    "import numpy as np\n",
    "\n",
    "SEED = 33\n",
    "np.random.seed(SEED)\n",
    "\n",
    "\n",
    "import matplotlib.pyplot as plt\n",
    "%matplotlib inline\n",
    "\n",
    "import matplotlib.pylab as pylab\n",
    "params = {\n",
    "    'legend.fontsize': 'x-large',\n",
    "    'figure.figsize': (15, 8),\n",
    "    'axes.labelsize': 'x-large',\n",
    "    'axes.titlesize':'x-large',\n",
    "    'axes.titlepad': 20,\n",
    "    'xtick.labelsize':'x-large',\n",
    "    'ytick.labelsize':'x-large'\n",
    "}\n",
    "pylab.rcParams.update(params)\n",
    "\n",
    "import seaborn as sns\n",
    "sns.set(style=\"white\")\n",
    "\n",
    "import plotly.offline as py\n",
    "import plotly.express as px\n",
    "py.init_notebook_mode(connected=True);\n",
    "\n",
    "from tqdm import tqdm, tqdm_notebook\n",
    "from collections import Counter\n",
    "\n",
    "import warnings\n",
    "warnings.filterwarnings(action='ignore')\n",
    "\n",
    "from pprint import pprint\n",
    "from time import time\n",
    "import logging\n",
    "from IPython.display import display\n",
    "\n",
    "from sklearn.dummy import DummyClassifier\n",
    "from sklearn.ensemble import RandomForestClassifier\n",
    "from sklearn.naive_bayes import MultinomialNB\n",
    "from sklearn.linear_model import SGDClassifier, LogisticRegression\n",
    "from sklearn.neural_network import MLPClassifier\n",
    "from sklearn.model_selection import cross_val_score, train_test_split\n",
    "from sklearn import metrics\n",
    "\n",
    "from imblearn.over_sampling import RandomOverSampler\n",
    "\n",
    "# Parâmetros de análise / modelagem\n",
    "SEED = 33\n",
    "np.random.seed(SEED)\n",
    "\n",
    "TEST_SIZE = 0.1\n",
    "\n",
    "CLASS_COLUMN = \"quality\""
   ]
  },
  {
   "cell_type": "code",
   "execution_count": 2,
   "metadata": {
    "ExecuteTime": {
     "end_time": "2019-09-15T16:27:03.724379Z",
     "start_time": "2019-09-15T16:27:03.684484Z"
    }
   },
   "outputs": [],
   "source": [
    "# Base de dados original\n",
    "df_raw = pd.read_csv('data/winequality.csv', sep=\";\")"
   ]
  },
  {
   "cell_type": "markdown",
   "metadata": {},
   "source": [
    "# Análise exploratória dos Dados"
   ]
  },
  {
   "cell_type": "markdown",
   "metadata": {},
   "source": [
    "## Estatísticas Básicas"
   ]
  },
  {
   "cell_type": "code",
   "execution_count": 3,
   "metadata": {
    "ExecuteTime": {
     "end_time": "2019-09-15T16:27:03.741370Z",
     "start_time": "2019-09-15T16:27:03.727372Z"
    }
   },
   "outputs": [
    {
     "name": "stdout",
     "output_type": "stream",
     "text": [
      "<class 'pandas.core.frame.DataFrame'>\n",
      "RangeIndex: 6497 entries, 0 to 6496\n",
      "Data columns (total 13 columns):\n",
      "type                    6497 non-null object\n",
      "fixed acidity           6497 non-null float64\n",
      "volatile acidity        6497 non-null float64\n",
      "citric acid             6497 non-null float64\n",
      "residual sugar          6497 non-null float64\n",
      "chlorides               6497 non-null float64\n",
      "free sulfur dioxide     6497 non-null float64\n",
      "total sulfur dioxide    6497 non-null float64\n",
      "density                 6497 non-null float64\n",
      "pH                      6497 non-null float64\n",
      "sulphates               6497 non-null float64\n",
      "alcohol                 6497 non-null object\n",
      "quality                 6497 non-null int64\n",
      "dtypes: float64(10), int64(1), object(2)\n",
      "memory usage: 660.0+ KB\n"
     ]
    }
   ],
   "source": [
    "df_raw.info()"
   ]
  },
  {
   "cell_type": "code",
   "execution_count": 4,
   "metadata": {
    "ExecuteTime": {
     "end_time": "2019-09-15T16:27:03.803169Z",
     "start_time": "2019-09-15T16:27:03.743328Z"
    }
   },
   "outputs": [
    {
     "data": {
      "text/html": [
       "<div>\n",
       "<style scoped>\n",
       "    .dataframe tbody tr th:only-of-type {\n",
       "        vertical-align: middle;\n",
       "    }\n",
       "\n",
       "    .dataframe tbody tr th {\n",
       "        vertical-align: top;\n",
       "    }\n",
       "\n",
       "    .dataframe thead th {\n",
       "        text-align: right;\n",
       "    }\n",
       "</style>\n",
       "<table border=\"1\" class=\"dataframe\">\n",
       "  <thead>\n",
       "    <tr style=\"text-align: right;\">\n",
       "      <th></th>\n",
       "      <th>fixed acidity</th>\n",
       "      <th>volatile acidity</th>\n",
       "      <th>citric acid</th>\n",
       "      <th>residual sugar</th>\n",
       "      <th>chlorides</th>\n",
       "      <th>free sulfur dioxide</th>\n",
       "      <th>total sulfur dioxide</th>\n",
       "      <th>density</th>\n",
       "      <th>pH</th>\n",
       "      <th>sulphates</th>\n",
       "      <th>quality</th>\n",
       "    </tr>\n",
       "  </thead>\n",
       "  <tbody>\n",
       "    <tr>\n",
       "      <td>count</td>\n",
       "      <td>6497.000000</td>\n",
       "      <td>6497.000000</td>\n",
       "      <td>6497.000000</td>\n",
       "      <td>6497.000000</td>\n",
       "      <td>6497.000000</td>\n",
       "      <td>6497.000000</td>\n",
       "      <td>6497.000000</td>\n",
       "      <td>6497.000000</td>\n",
       "      <td>6497.000000</td>\n",
       "      <td>6497.000000</td>\n",
       "      <td>6497.000000</td>\n",
       "    </tr>\n",
       "    <tr>\n",
       "      <td>mean</td>\n",
       "      <td>7.215307</td>\n",
       "      <td>0.339666</td>\n",
       "      <td>0.318633</td>\n",
       "      <td>5.443235</td>\n",
       "      <td>0.056034</td>\n",
       "      <td>30.525319</td>\n",
       "      <td>115.744574</td>\n",
       "      <td>1.710882</td>\n",
       "      <td>3.218501</td>\n",
       "      <td>0.531268</td>\n",
       "      <td>5.818378</td>\n",
       "    </tr>\n",
       "    <tr>\n",
       "      <td>std</td>\n",
       "      <td>1.296434</td>\n",
       "      <td>0.164636</td>\n",
       "      <td>0.145318</td>\n",
       "      <td>4.757804</td>\n",
       "      <td>0.035034</td>\n",
       "      <td>17.749400</td>\n",
       "      <td>56.521855</td>\n",
       "      <td>7.636088</td>\n",
       "      <td>0.160787</td>\n",
       "      <td>0.148806</td>\n",
       "      <td>0.873255</td>\n",
       "    </tr>\n",
       "    <tr>\n",
       "      <td>min</td>\n",
       "      <td>3.800000</td>\n",
       "      <td>0.080000</td>\n",
       "      <td>0.000000</td>\n",
       "      <td>0.600000</td>\n",
       "      <td>0.009000</td>\n",
       "      <td>1.000000</td>\n",
       "      <td>6.000000</td>\n",
       "      <td>0.987110</td>\n",
       "      <td>2.720000</td>\n",
       "      <td>0.220000</td>\n",
       "      <td>3.000000</td>\n",
       "    </tr>\n",
       "    <tr>\n",
       "      <td>25%</td>\n",
       "      <td>6.400000</td>\n",
       "      <td>0.230000</td>\n",
       "      <td>0.250000</td>\n",
       "      <td>1.800000</td>\n",
       "      <td>0.038000</td>\n",
       "      <td>17.000000</td>\n",
       "      <td>77.000000</td>\n",
       "      <td>0.992340</td>\n",
       "      <td>3.110000</td>\n",
       "      <td>0.430000</td>\n",
       "      <td>5.000000</td>\n",
       "    </tr>\n",
       "    <tr>\n",
       "      <td>50%</td>\n",
       "      <td>7.000000</td>\n",
       "      <td>0.290000</td>\n",
       "      <td>0.310000</td>\n",
       "      <td>3.000000</td>\n",
       "      <td>0.047000</td>\n",
       "      <td>29.000000</td>\n",
       "      <td>118.000000</td>\n",
       "      <td>0.994890</td>\n",
       "      <td>3.210000</td>\n",
       "      <td>0.510000</td>\n",
       "      <td>6.000000</td>\n",
       "    </tr>\n",
       "    <tr>\n",
       "      <td>75%</td>\n",
       "      <td>7.700000</td>\n",
       "      <td>0.400000</td>\n",
       "      <td>0.390000</td>\n",
       "      <td>8.100000</td>\n",
       "      <td>0.065000</td>\n",
       "      <td>41.000000</td>\n",
       "      <td>156.000000</td>\n",
       "      <td>0.996990</td>\n",
       "      <td>3.320000</td>\n",
       "      <td>0.600000</td>\n",
       "      <td>6.000000</td>\n",
       "    </tr>\n",
       "    <tr>\n",
       "      <td>max</td>\n",
       "      <td>15.900000</td>\n",
       "      <td>1.580000</td>\n",
       "      <td>1.660000</td>\n",
       "      <td>65.800000</td>\n",
       "      <td>0.611000</td>\n",
       "      <td>289.000000</td>\n",
       "      <td>440.000000</td>\n",
       "      <td>103.898000</td>\n",
       "      <td>4.010000</td>\n",
       "      <td>2.000000</td>\n",
       "      <td>9.000000</td>\n",
       "    </tr>\n",
       "  </tbody>\n",
       "</table>\n",
       "</div>"
      ],
      "text/plain": [
       "       fixed acidity  volatile acidity  citric acid  residual sugar  \\\n",
       "count    6497.000000       6497.000000  6497.000000     6497.000000   \n",
       "mean        7.215307          0.339666     0.318633        5.443235   \n",
       "std         1.296434          0.164636     0.145318        4.757804   \n",
       "min         3.800000          0.080000     0.000000        0.600000   \n",
       "25%         6.400000          0.230000     0.250000        1.800000   \n",
       "50%         7.000000          0.290000     0.310000        3.000000   \n",
       "75%         7.700000          0.400000     0.390000        8.100000   \n",
       "max        15.900000          1.580000     1.660000       65.800000   \n",
       "\n",
       "         chlorides  free sulfur dioxide  total sulfur dioxide      density  \\\n",
       "count  6497.000000          6497.000000           6497.000000  6497.000000   \n",
       "mean      0.056034            30.525319            115.744574     1.710882   \n",
       "std       0.035034            17.749400             56.521855     7.636088   \n",
       "min       0.009000             1.000000              6.000000     0.987110   \n",
       "25%       0.038000            17.000000             77.000000     0.992340   \n",
       "50%       0.047000            29.000000            118.000000     0.994890   \n",
       "75%       0.065000            41.000000            156.000000     0.996990   \n",
       "max       0.611000           289.000000            440.000000   103.898000   \n",
       "\n",
       "                pH    sulphates      quality  \n",
       "count  6497.000000  6497.000000  6497.000000  \n",
       "mean      3.218501     0.531268     5.818378  \n",
       "std       0.160787     0.148806     0.873255  \n",
       "min       2.720000     0.220000     3.000000  \n",
       "25%       3.110000     0.430000     5.000000  \n",
       "50%       3.210000     0.510000     6.000000  \n",
       "75%       3.320000     0.600000     6.000000  \n",
       "max       4.010000     2.000000     9.000000  "
      ]
     },
     "execution_count": 4,
     "metadata": {},
     "output_type": "execute_result"
    }
   ],
   "source": [
    "df_raw.describe()"
   ]
  },
  {
   "cell_type": "code",
   "execution_count": 5,
   "metadata": {
    "ExecuteTime": {
     "end_time": "2019-09-15T16:27:03.820120Z",
     "start_time": "2019-09-15T16:27:03.805168Z"
    }
   },
   "outputs": [
    {
     "data": {
      "text/html": [
       "<div>\n",
       "<style scoped>\n",
       "    .dataframe tbody tr th:only-of-type {\n",
       "        vertical-align: middle;\n",
       "    }\n",
       "\n",
       "    .dataframe tbody tr th {\n",
       "        vertical-align: top;\n",
       "    }\n",
       "\n",
       "    .dataframe thead th {\n",
       "        text-align: right;\n",
       "    }\n",
       "</style>\n",
       "<table border=\"1\" class=\"dataframe\">\n",
       "  <thead>\n",
       "    <tr style=\"text-align: right;\">\n",
       "      <th></th>\n",
       "      <th>type</th>\n",
       "      <th>fixed acidity</th>\n",
       "      <th>volatile acidity</th>\n",
       "      <th>citric acid</th>\n",
       "      <th>residual sugar</th>\n",
       "      <th>chlorides</th>\n",
       "      <th>free sulfur dioxide</th>\n",
       "      <th>total sulfur dioxide</th>\n",
       "      <th>density</th>\n",
       "      <th>pH</th>\n",
       "      <th>sulphates</th>\n",
       "      <th>alcohol</th>\n",
       "      <th>quality</th>\n",
       "    </tr>\n",
       "  </thead>\n",
       "  <tbody>\n",
       "    <tr>\n",
       "      <td>0</td>\n",
       "      <td>White</td>\n",
       "      <td>7.0</td>\n",
       "      <td>0.27</td>\n",
       "      <td>0.36</td>\n",
       "      <td>20.7</td>\n",
       "      <td>0.045</td>\n",
       "      <td>45.0</td>\n",
       "      <td>170.0</td>\n",
       "      <td>1.0010</td>\n",
       "      <td>3.00</td>\n",
       "      <td>0.45</td>\n",
       "      <td>8.8</td>\n",
       "      <td>6</td>\n",
       "    </tr>\n",
       "    <tr>\n",
       "      <td>1</td>\n",
       "      <td>White</td>\n",
       "      <td>6.3</td>\n",
       "      <td>0.30</td>\n",
       "      <td>0.34</td>\n",
       "      <td>1.6</td>\n",
       "      <td>0.049</td>\n",
       "      <td>14.0</td>\n",
       "      <td>132.0</td>\n",
       "      <td>0.9940</td>\n",
       "      <td>3.30</td>\n",
       "      <td>0.49</td>\n",
       "      <td>9.5</td>\n",
       "      <td>6</td>\n",
       "    </tr>\n",
       "    <tr>\n",
       "      <td>2</td>\n",
       "      <td>White</td>\n",
       "      <td>8.1</td>\n",
       "      <td>0.28</td>\n",
       "      <td>0.40</td>\n",
       "      <td>6.9</td>\n",
       "      <td>0.050</td>\n",
       "      <td>30.0</td>\n",
       "      <td>97.0</td>\n",
       "      <td>0.9951</td>\n",
       "      <td>3.26</td>\n",
       "      <td>0.44</td>\n",
       "      <td>10.1</td>\n",
       "      <td>6</td>\n",
       "    </tr>\n",
       "    <tr>\n",
       "      <td>3</td>\n",
       "      <td>White</td>\n",
       "      <td>7.2</td>\n",
       "      <td>0.23</td>\n",
       "      <td>0.32</td>\n",
       "      <td>8.5</td>\n",
       "      <td>0.058</td>\n",
       "      <td>47.0</td>\n",
       "      <td>186.0</td>\n",
       "      <td>0.9956</td>\n",
       "      <td>3.19</td>\n",
       "      <td>0.40</td>\n",
       "      <td>9.9</td>\n",
       "      <td>6</td>\n",
       "    </tr>\n",
       "    <tr>\n",
       "      <td>4</td>\n",
       "      <td>White</td>\n",
       "      <td>7.2</td>\n",
       "      <td>0.23</td>\n",
       "      <td>0.32</td>\n",
       "      <td>8.5</td>\n",
       "      <td>0.058</td>\n",
       "      <td>47.0</td>\n",
       "      <td>186.0</td>\n",
       "      <td>0.9956</td>\n",
       "      <td>3.19</td>\n",
       "      <td>0.40</td>\n",
       "      <td>9.9</td>\n",
       "      <td>6</td>\n",
       "    </tr>\n",
       "  </tbody>\n",
       "</table>\n",
       "</div>"
      ],
      "text/plain": [
       "    type  fixed acidity  volatile acidity  citric acid  residual sugar  \\\n",
       "0  White            7.0              0.27         0.36            20.7   \n",
       "1  White            6.3              0.30         0.34             1.6   \n",
       "2  White            8.1              0.28         0.40             6.9   \n",
       "3  White            7.2              0.23         0.32             8.5   \n",
       "4  White            7.2              0.23         0.32             8.5   \n",
       "\n",
       "   chlorides  free sulfur dioxide  total sulfur dioxide  density    pH  \\\n",
       "0      0.045                 45.0                 170.0   1.0010  3.00   \n",
       "1      0.049                 14.0                 132.0   0.9940  3.30   \n",
       "2      0.050                 30.0                  97.0   0.9951  3.26   \n",
       "3      0.058                 47.0                 186.0   0.9956  3.19   \n",
       "4      0.058                 47.0                 186.0   0.9956  3.19   \n",
       "\n",
       "   sulphates alcohol  quality  \n",
       "0       0.45     8.8        6  \n",
       "1       0.49     9.5        6  \n",
       "2       0.44    10.1        6  \n",
       "3       0.40     9.9        6  \n",
       "4       0.40     9.9        6  "
      ]
     },
     "execution_count": 5,
     "metadata": {},
     "output_type": "execute_result"
    }
   ],
   "source": [
    "df_raw.head()"
   ]
  },
  {
   "cell_type": "markdown",
   "metadata": {},
   "source": [
    "**CONCLUSÕES PARCIAIS**: Após uma primeira análise superficial, é possível observar duas questões:\n",
    "\n",
    "    1. O atributo **type** está estruturada com valores categóricos (e.g. 'White' - *String*);\n",
    "    2. Já o atributo **alcohol** apesar de ser descrito como categórico (tipo *object*) possui valores aparentemente numéricos; este fenômeno fica evidente ao observarmos que tal atributo não está presente no dataframe oriundo do método *describe()*, o qual apresenta um resumo estatístico de atributos com valores numéricos do dataset.\n",
    "    \n",
    "Estas observações citadas demonstram que há problema de integridade nos dados, que nos levará a lançar mão de etapas de pré-processamento para eliminar tais inconsistências."
   ]
  },
  {
   "cell_type": "markdown",
   "metadata": {},
   "source": [
    "## Estatísticas Avançadas"
   ]
  },
  {
   "cell_type": "markdown",
   "metadata": {},
   "source": [
    "Grande parte do sucesso de aplicações de Ciência de Dados está no pleno entendimento das características dos dados. Neste sentido, além de estatísticas básicas, é importante analisar individualmente as propriedades de cada atributo, para avaliar seus detalhes, distribuições e suas correlações existentes.\n",
    "\n",
    "Obviamente, realizar uma análise robusta requer domínio de diferentes ferramentas, conceitos e técnicas avançadas, o que obviamente não é uma tarefa trivial. Todavia, é importante ter conhecimento de 'caminhos' que agilizem o processo de Descoberta de Conhecimento. Neste sentido, para uma análise completa do conjunto de dados, irei utilizar o pacote `pandas_profiling` que permite a cientistas de dados terem um panorama abrangente dos dados em que estão trabalhando."
   ]
  },
  {
   "cell_type": "code",
   "execution_count": null,
   "metadata": {
    "ExecuteTime": {
     "start_time": "2019-09-15T18:28:12.286Z"
    },
    "scrolled": false
   },
   "outputs": [],
   "source": [
    "EDA = df_raw.profile_report(title='EDA - Qualidade do Vinho', style={'full_width':True})\n",
    "EDA"
   ]
  },
  {
   "cell_type": "code",
   "execution_count": null,
   "metadata": {},
   "outputs": [],
   "source": [
    "# Análise completa disponível em...\n",
    "EDA.to_file(output_file=\"EDA.html\")"
   ]
  },
  {
   "cell_type": "markdown",
   "metadata": {},
   "source": [
    "## Pré-processamento"
   ]
  },
  {
   "cell_type": "markdown",
   "metadata": {},
   "source": [
    "#### Atributo `Alcohol`"
   ]
  },
  {
   "cell_type": "code",
   "execution_count": 7,
   "metadata": {
    "ExecuteTime": {
     "end_time": "2019-09-15T16:27:20.727745Z",
     "start_time": "2019-09-15T16:27:20.719724Z"
    }
   },
   "outputs": [
    {
     "data": {
      "text/plain": [
       "11.65                  1\n",
       "963.333.333.333.333    1\n",
       "12.05                  1\n",
       "131.333.333.333.333    1\n",
       "8                      1\n",
       "114.666.666.666.667    1\n",
       "923.333.333.333.333    1\n",
       "13.05                  1\n",
       "10.75                  1\n",
       "9.05                   1\n",
       "113.666.666.666.667    1\n",
       "123.333.333.333.333    1\n",
       "120.666.666.666.667    1\n",
       "105.666.666.666.667    1\n",
       "10.65                  1\n",
       "14.9                   1\n",
       "13.55                  1\n",
       "11.55                  1\n",
       "114.333.333.333.333    1\n",
       "12.25                  1\n",
       "956.666.666.666.667    1\n",
       "11.35                  1\n",
       "9.25                   1\n",
       "135.666.666.666.667    1\n",
       "14.05                  1\n",
       "9.75                   1\n",
       "8.0                    1\n",
       "105.333.333.333.333    1\n",
       "10.98                  1\n",
       "9.95                   1\n",
       "112.666.666.666.667    1\n",
       "14.2                   1\n",
       "117.333.333.333.333    1\n",
       "11.85                  1\n",
       "Name: alcohol, dtype: int64"
      ]
     },
     "execution_count": 7,
     "metadata": {},
     "output_type": "execute_result"
    }
   ],
   "source": [
    "# Avaliando registros disponíveis para o atributo - Imaginando que valores inconsistentes são 'casos isolados'\n",
    "alcohol_counts = df_raw[\"alcohol\"].value_counts()\n",
    "alcohol_counts[alcohol_counts == 1]"
   ]
  },
  {
   "cell_type": "code",
   "execution_count": 8,
   "metadata": {
    "ExecuteTime": {
     "end_time": "2019-09-15T16:27:20.746705Z",
     "start_time": "2019-09-15T16:27:20.729733Z"
    }
   },
   "outputs": [],
   "source": [
    "def convert_alcohol(x): \n",
    "    \"\"\"\n",
    "    Função baseada em `https://github.com/feebarscevicius/vinho-verde/blob/master/utils.py`\n",
    "    Converte os valores do preditor `alcohol` para float,\n",
    "    cuidando dos casos com formatação inconsistente. Utilizar\n",
    "    no método `apply` do pd.DataFrame\n",
    "    \n",
    "    Args:\n",
    "        x: observação no DataFrame\n",
    "    Returns:\n",
    "        Valor de `x` convertido para `float`\n",
    "    \"\"\"    \n",
    "    \n",
    "    try:\n",
    "        x = float(x)\n",
    "        \n",
    "    except ValueError:\n",
    "        x = x[:2] + '.' + x[2]\n",
    "        x = float(x)\n",
    "        \n",
    "        if x > 50:\n",
    "            x /= 10\n",
    "\n",
    "    return x\n",
    "\n",
    "df_raw[\"alcohol\"] = df_raw[\"alcohol\"].apply(convert_alcohol)"
   ]
  },
  {
   "cell_type": "markdown",
   "metadata": {},
   "source": [
    "#### Atributo `Type`"
   ]
  },
  {
   "cell_type": "code",
   "execution_count": 9,
   "metadata": {
    "ExecuteTime": {
     "end_time": "2019-09-15T16:27:20.773608Z",
     "start_time": "2019-09-15T16:27:20.748654Z"
    }
   },
   "outputs": [],
   "source": [
    "# Transformando N valores do atributo Type em N atributos binários, one N = 2, \"Red\" e \"White\")\n",
    "df = df_raw.copy()\n",
    "df = pd.concat([df, pd.get_dummies(df['type'], prefix='type')], axis=1)"
   ]
  },
  {
   "cell_type": "code",
   "execution_count": 10,
   "metadata": {
    "ExecuteTime": {
     "end_time": "2019-09-15T16:27:20.805496Z",
     "start_time": "2019-09-15T16:27:20.775575Z"
    }
   },
   "outputs": [
    {
     "data": {
      "text/html": [
       "<div>\n",
       "<style scoped>\n",
       "    .dataframe tbody tr th:only-of-type {\n",
       "        vertical-align: middle;\n",
       "    }\n",
       "\n",
       "    .dataframe tbody tr th {\n",
       "        vertical-align: top;\n",
       "    }\n",
       "\n",
       "    .dataframe thead th {\n",
       "        text-align: right;\n",
       "    }\n",
       "</style>\n",
       "<table border=\"1\" class=\"dataframe\">\n",
       "  <thead>\n",
       "    <tr style=\"text-align: right;\">\n",
       "      <th></th>\n",
       "      <th>type</th>\n",
       "      <th>fixed_acidity</th>\n",
       "      <th>volatile_acidity</th>\n",
       "      <th>citric_acid</th>\n",
       "      <th>residual_sugar</th>\n",
       "      <th>chlorides</th>\n",
       "      <th>free_sulfur_dioxide</th>\n",
       "      <th>total_sulfur_dioxide</th>\n",
       "      <th>density</th>\n",
       "      <th>pH</th>\n",
       "      <th>sulphates</th>\n",
       "      <th>alcohol</th>\n",
       "      <th>quality</th>\n",
       "      <th>type_Red</th>\n",
       "      <th>type_White</th>\n",
       "    </tr>\n",
       "  </thead>\n",
       "  <tbody>\n",
       "    <tr>\n",
       "      <td>0</td>\n",
       "      <td>White</td>\n",
       "      <td>7.0</td>\n",
       "      <td>0.27</td>\n",
       "      <td>0.36</td>\n",
       "      <td>20.7</td>\n",
       "      <td>0.045</td>\n",
       "      <td>45.0</td>\n",
       "      <td>170.0</td>\n",
       "      <td>1.0010</td>\n",
       "      <td>3.00</td>\n",
       "      <td>0.45</td>\n",
       "      <td>8.8</td>\n",
       "      <td>6</td>\n",
       "      <td>0</td>\n",
       "      <td>1</td>\n",
       "    </tr>\n",
       "    <tr>\n",
       "      <td>1</td>\n",
       "      <td>White</td>\n",
       "      <td>6.3</td>\n",
       "      <td>0.30</td>\n",
       "      <td>0.34</td>\n",
       "      <td>1.6</td>\n",
       "      <td>0.049</td>\n",
       "      <td>14.0</td>\n",
       "      <td>132.0</td>\n",
       "      <td>0.9940</td>\n",
       "      <td>3.30</td>\n",
       "      <td>0.49</td>\n",
       "      <td>9.5</td>\n",
       "      <td>6</td>\n",
       "      <td>0</td>\n",
       "      <td>1</td>\n",
       "    </tr>\n",
       "    <tr>\n",
       "      <td>2</td>\n",
       "      <td>White</td>\n",
       "      <td>8.1</td>\n",
       "      <td>0.28</td>\n",
       "      <td>0.40</td>\n",
       "      <td>6.9</td>\n",
       "      <td>0.050</td>\n",
       "      <td>30.0</td>\n",
       "      <td>97.0</td>\n",
       "      <td>0.9951</td>\n",
       "      <td>3.26</td>\n",
       "      <td>0.44</td>\n",
       "      <td>10.1</td>\n",
       "      <td>6</td>\n",
       "      <td>0</td>\n",
       "      <td>1</td>\n",
       "    </tr>\n",
       "    <tr>\n",
       "      <td>3</td>\n",
       "      <td>White</td>\n",
       "      <td>7.2</td>\n",
       "      <td>0.23</td>\n",
       "      <td>0.32</td>\n",
       "      <td>8.5</td>\n",
       "      <td>0.058</td>\n",
       "      <td>47.0</td>\n",
       "      <td>186.0</td>\n",
       "      <td>0.9956</td>\n",
       "      <td>3.19</td>\n",
       "      <td>0.40</td>\n",
       "      <td>9.9</td>\n",
       "      <td>6</td>\n",
       "      <td>0</td>\n",
       "      <td>1</td>\n",
       "    </tr>\n",
       "    <tr>\n",
       "      <td>4</td>\n",
       "      <td>White</td>\n",
       "      <td>7.2</td>\n",
       "      <td>0.23</td>\n",
       "      <td>0.32</td>\n",
       "      <td>8.5</td>\n",
       "      <td>0.058</td>\n",
       "      <td>47.0</td>\n",
       "      <td>186.0</td>\n",
       "      <td>0.9956</td>\n",
       "      <td>3.19</td>\n",
       "      <td>0.40</td>\n",
       "      <td>9.9</td>\n",
       "      <td>6</td>\n",
       "      <td>0</td>\n",
       "      <td>1</td>\n",
       "    </tr>\n",
       "  </tbody>\n",
       "</table>\n",
       "</div>"
      ],
      "text/plain": [
       "    type  fixed_acidity  volatile_acidity  citric_acid  residual_sugar  \\\n",
       "0  White            7.0              0.27         0.36            20.7   \n",
       "1  White            6.3              0.30         0.34             1.6   \n",
       "2  White            8.1              0.28         0.40             6.9   \n",
       "3  White            7.2              0.23         0.32             8.5   \n",
       "4  White            7.2              0.23         0.32             8.5   \n",
       "\n",
       "   chlorides  free_sulfur_dioxide  total_sulfur_dioxide  density    pH  \\\n",
       "0      0.045                 45.0                 170.0   1.0010  3.00   \n",
       "1      0.049                 14.0                 132.0   0.9940  3.30   \n",
       "2      0.050                 30.0                  97.0   0.9951  3.26   \n",
       "3      0.058                 47.0                 186.0   0.9956  3.19   \n",
       "4      0.058                 47.0                 186.0   0.9956  3.19   \n",
       "\n",
       "   sulphates  alcohol  quality  type_Red  type_White  \n",
       "0       0.45      8.8        6         0           1  \n",
       "1       0.49      9.5        6         0           1  \n",
       "2       0.44     10.1        6         0           1  \n",
       "3       0.40      9.9        6         0           1  \n",
       "4       0.40      9.9        6         0           1  "
      ]
     },
     "execution_count": 10,
     "metadata": {},
     "output_type": "execute_result"
    }
   ],
   "source": [
    "df.head()"
   ]
  },
  {
   "cell_type": "markdown",
   "metadata": {},
   "source": [
    "#### Normalizando atributos (escala [0, 1])"
   ]
  },
  {
   "cell_type": "code",
   "execution_count": 11,
   "metadata": {
    "ExecuteTime": {
     "end_time": "2019-09-15T16:27:20.830454Z",
     "start_time": "2019-09-15T16:27:20.807490Z"
    }
   },
   "outputs": [],
   "source": [
    "from sklearn import preprocessing\n",
    "\n",
    "scaler = preprocessing.MinMaxScaler()\n",
    "df.loc[:, ~df.columns.isin([\"type\", \"type_White\", \"type_Red\", CLASS_COLUMN]) ] = \\\n",
    "    scaler.fit_transform(df.loc[:, ~df.columns.isin([\"type\", \"type_White\", \"type_Red\", CLASS_COLUMN]) ].values)\n"
   ]
  },
  {
   "cell_type": "markdown",
   "metadata": {},
   "source": [
    "## Análise do atributo alvo: `quality`"
   ]
  },
  {
   "cell_type": "code",
   "execution_count": 12,
   "metadata": {
    "ExecuteTime": {
     "end_time": "2019-09-15T16:27:21.134653Z",
     "start_time": "2019-09-15T16:27:20.832423Z"
    }
   },
   "outputs": [
    {
     "data": {
      "image/png": "[encoded data removed]",
      "text/plain": [
       "<Figure size 720x360 with 1 Axes>"
      ]
     },
     "metadata": {
      "needs_background": "light"
     },
     "output_type": "display_data"
    }
   ],
   "source": [
    "fig = plt.figure(figsize=(10, 5))\n",
    "\n",
    "fig.suptitle(\"Distribuição das Classes ({})\".format(CLASS_COLUMN), fontsize=20)\n",
    "g0 = sns.countplot( x = CLASS_COLUMN, data = df)\n",
    "plt.yticks(range(0, 2900, 200))\n",
    "plt.ylim(0, 2900)\n",
    "plt.xlabel('# Amostras', fontsize=16)\n",
    "plt.ylabel(\"Quantidade\", fontsize=16);\n",
    "plt.xticks(rotation=90);"
   ]
  },
  {
   "cell_type": "code",
   "execution_count": 13,
   "metadata": {
    "ExecuteTime": {
     "end_time": "2019-09-15T16:27:21.144615Z",
     "start_time": "2019-09-15T16:27:21.136609Z"
    }
   },
   "outputs": [
    {
     "data": {
      "text/plain": [
       "6    2836\n",
       "5    2138\n",
       "7    1079\n",
       "4     216\n",
       "8     193\n",
       "3      30\n",
       "9       5\n",
       "Name: quality, dtype: int64"
      ]
     },
     "execution_count": 13,
     "metadata": {},
     "output_type": "execute_result"
    }
   ],
   "source": [
    "df[\"quality\"].value_counts()"
   ]
  },
  {
   "cell_type": "markdown",
   "metadata": {},
   "source": [
    "**CONCLUSÃO PARCIAL**: Aqui, vemos que o número de amostras por valor-classe é `consideravelmente desbalanceado`, característica que evidencia a necessidade de ajustar cuidadosamente o modelo de ML ou equilibrar artificialmente o conjunto de dados, por exemplo, subamostrando ou sobreamostrando cada classe.\n",
    "\n",
    "Todavia, surge a seguinte hipótese:\n",
    "\n",
    "> \"Será que a amostragem, referente a variável `quality`, segue a mesma distribuição para cada tipo (`red`/ `white`) de vinho?\"\n",
    " \n",
    "Iremos validar esta hipótese, que pode ter um grande impacto no momento de modelagem."
   ]
  },
  {
   "cell_type": "code",
   "execution_count": 14,
   "metadata": {
    "ExecuteTime": {
     "end_time": "2019-09-15T16:27:21.165561Z",
     "start_time": "2019-09-15T16:27:21.146582Z"
    }
   },
   "outputs": [],
   "source": [
    "# Dividindo o conjunto de dados\n",
    "df_white = df.loc[ df[\"type_White\"] == 1, :]\n",
    "df_white = df_white.drop([\"type_White\", \"type_Red\"], axis=1)\n",
    "\n",
    "df_red = df.loc[ df[\"type_Red\"] == 1, :]\n",
    "df_red = df_red.drop([\"type_White\", \"type_Red\"], axis=1)"
   ]
  },
  {
   "cell_type": "code",
   "execution_count": 15,
   "metadata": {
    "ExecuteTime": {
     "end_time": "2019-09-15T16:27:21.582459Z",
     "start_time": "2019-09-15T16:27:21.167526Z"
    }
   },
   "outputs": [
    {
     "data": {
      "image/png": "[encoded data removed]",
      "text/plain": [
       "<Figure size 432x288 with 2 Axes>"
      ]
     },
     "metadata": {
      "needs_background": "light"
     },
     "output_type": "display_data"
    }
   ],
   "source": [
    "fig, (ax1, ax2) = plt.subplots(1, 2)\n",
    "\n",
    "ax1.set_title(\"Vinho Tinto - Distribuição das Classes ({})\".format(CLASS_COLUMN), fontsize=20)\n",
    "g0 = sns.countplot( x = CLASS_COLUMN, data = df_red, ax=ax1)\n",
    "# plt.yticks(range(0, 2900, 200))\n",
    "# plt.ylim(0, 2900)\n",
    "plt.xlabel('# Amostras', fontsize=16)\n",
    "plt.ylabel(\"Quantidade\", fontsize=16);\n",
    "plt.xticks(rotation=90);\n",
    "\n",
    "ax2.set_title(\"Vinho Branco - Distribuição das Classes ({})\".format(CLASS_COLUMN), fontsize=20)\n",
    "g0 = sns.countplot( x = CLASS_COLUMN, data = df_white, ax=ax2)\n",
    "# plt.yticks(range(0, 2900, 200))\n",
    "# plt.ylim(0, 2900)\n",
    "plt.xlabel('# Amostras', fontsize=16)\n",
    "plt.ylabel(\"Quantidade\", fontsize=16);\n",
    "plt.xticks(rotation=90);"
   ]
  },
  {
   "cell_type": "markdown",
   "metadata": {},
   "source": [
    "**Interessante!!!**\n",
    "\n",
    "Podemos observar que o fenômeno de desabalanceamento é intrínseco a ambos tipos de vinhos, *mas a distribuição de qualidades muda de acordo com o tipo de vinho*.\n",
    "\n",
    "<u>Por exemplo:</u> \n",
    "    * Não há vinhos de `quality=9` para vinho tinto;\n",
    "    * Há muito mais vinhos com `qualidade` 6 do que 5 em vinhos branco, ao contrário de vinho tinto.\n",
    "    \n",
    "Logo, presume-se que os fatores que os fatores que impactam a qualidade do vinho varia de acordo com cada tipo. Isto poderia ser <u>validado em campo com o cliente ou especialistas no domínio do problema</u>.\n",
    "\n",
    "Neste sentido, temos 2 caminhos a seguir para a construção de um classificador de qualidade de Vinhos baseado em Machine Learning:\n",
    "\n",
    ">   1. Contruir um **`classificador hierárquico`**, que é constituído de camadas (ou níveis) que possuem modelos de ML treinados em conjuntos de dados segmentados. No contexto deste projeto, iremos uma estrutura de classificador que:\n",
    "\n",
    ">       a. O primeiro nível de classificador irá checar se o vinho é Branco ou Tinto com base em suas características;\n",
    ">       b. Em segundo nível, a amostra irá ser submetida a um classificador que irá definir sua qualidade.\n",
    "\n",
    ">   2. Treinar um **`classificador único`**, com todos os dados independente do tipo de vinho (tinto ou branco);\n",
    "\n",
    "Vale ressaltar que a primeira estratégia (abordagem hierárquica), conforme [Faceli *et. al*, 2011](https://www.amazon.com.br/Intelig%C3%AAncia-Artificial-Abordagem-Aprendizado-M%C3%A1quina/dp/8521618808), visa quebrar um problema complexo em vários problemas mais 'simples'."
   ]
  },
  {
   "cell_type": "markdown",
   "metadata": {},
   "source": [
    "# Modelagem"
   ]
  },
  {
   "cell_type": "code",
   "execution_count": 16,
   "metadata": {
    "ExecuteTime": {
     "end_time": "2019-09-15T16:27:21.594424Z",
     "start_time": "2019-09-15T16:27:21.584438Z"
    }
   },
   "outputs": [],
   "source": [
    "def best_evaluated_model(X, y, cv = 5):\n",
    "    \n",
    "    # Instanciando modelos (lista de modelos) baseline\n",
    "    models = [\n",
    "        DummyClassifier(\n",
    "            random_state=SEED\n",
    "        ),\n",
    "        RandomForestClassifier(\n",
    "            class_weight = 'balanced', \n",
    "            random_state=SEED\n",
    "        ),\n",
    "        MultinomialNB(),\n",
    "        SGDClassifier(\n",
    "            class_weight = 'balanced', \n",
    "            random_state=SEED\n",
    "        ),\n",
    "        LogisticRegression(\n",
    "            class_weight = 'balanced', \n",
    "            random_state=SEED\n",
    "        )\n",
    "    ]\n",
    "\n",
    "    # DataFrame que irá guardar os resultados de 5 tentativas dos 3 modelos\n",
    "    cv_df = pd.DataFrame(index=range(cv * len(models)))\n",
    "    entries = []\n",
    "\n",
    "    # Para cada modelo\n",
    "    print('Avaliando modelos, aguarde...')\n",
    "    for model in tqdm_notebook(models):\n",
    "        model_name = model.__class__.__name__\n",
    "\n",
    "        # Avaliar o resultado (considerando a matriz TF-IDF e rótulos)\n",
    "        scores = cross_val_score(\n",
    "            model, \n",
    "            X, y, \n",
    "            cv = cv, \n",
    "            scoring='f1_micro',\n",
    "            n_jobs = 8, \n",
    "            verbose = 0\n",
    "        )\n",
    "\n",
    "        # Adicionando as acurácias resultantes do CV para o modelo em questão\n",
    "        for fold_idx, score in enumerate(scores):\n",
    "            entries.append((model_name, fold_idx, score))\n",
    "\n",
    "    # Estruturando resultados como DataFrame\n",
    "    cv_df = pd.DataFrame(entries, columns=['Modelo', 'Fold', 'Score'])\n",
    "\n",
    "    # Visualizando os resultados\n",
    "    fig = plt.figure(figsize=(15, 8))\n",
    "    sns.boxplot(x='Modelo', y='Score', data=cv_df)\n",
    "    sns.stripplot(\n",
    "        x='Modelo', y='Score', data=cv_df, \n",
    "        size=8, jitter=True, edgecolor=\"gray\", linewidth=2);\n",
    "\n",
    "    # Visão Analítica\n",
    "    performance = cv_df.groupby('Modelo').agg({\"Score\": ['mean', 'std']})\n",
    "    print('Resultado da avaliação de modelos com validação cruzada ({} folds):'.format(cv))\n",
    "    display(performance)\n",
    "\n",
    "    # Definindo o modelo baseline, com base na performance (visao analitica anterior)\n",
    "    idx_baseline = np.argmax(performance['Score']['mean'].values)\n",
    "    # Capturando o modelo em si\n",
    "    for i, model in enumerate(models):\n",
    "        if model.__class__.__name__ == performance.index[idx_baseline]:\n",
    "            idx_baseline = i\n",
    "            break\n",
    "\n",
    "    # Instanciando o modelo baseline      \n",
    "    baseline_model = models[idx_baseline]\n",
    "    #print('Modelo baseline escolhido:\\n', baseline_model)\n",
    "\n",
    "    return baseline_model"
   ]
  },
  {
   "cell_type": "markdown",
   "metadata": {},
   "source": [
    "## Hipótese 1) Classificador hierárquico"
   ]
  },
  {
   "cell_type": "markdown",
   "metadata": {},
   "source": [
    "### Classificador de Primeiro nível: Vinho tinto ou branco?"
   ]
  },
  {
   "cell_type": "code",
   "execution_count": 17,
   "metadata": {
    "ExecuteTime": {
     "end_time": "2019-09-15T16:27:25.241675Z",
     "start_time": "2019-09-15T16:27:21.596381Z"
    }
   },
   "outputs": [
    {
     "name": "stdout",
     "output_type": "stream",
     "text": [
      "Avaliando modelos, aguarde...\n"
     ]
    },
    {
     "data": {
      "application/vnd.jupyter.widget-view+json": {
       "model_id": "f9a2b221bade4e66a585d4487774f242",
       "version_major": 2,
       "version_minor": 0
      },
      "text/plain": [
       "HBox(children=(IntProgress(value=0, max=5), HTML(value='')))"
      ]
     },
     "metadata": {},
     "output_type": "display_data"
    },
    {
     "name": "stdout",
     "output_type": "stream",
     "text": [
      "\n",
      "Resultado da avaliação de modelos com validação cruzada (10 folds):\n"
     ]
    },
    {
     "data": {
      "text/html": [
       "<div>\n",
       "<style scoped>\n",
       "    .dataframe tbody tr th:only-of-type {\n",
       "        vertical-align: middle;\n",
       "    }\n",
       "\n",
       "    .dataframe tbody tr th {\n",
       "        vertical-align: top;\n",
       "    }\n",
       "\n",
       "    .dataframe thead tr th {\n",
       "        text-align: left;\n",
       "    }\n",
       "\n",
       "    .dataframe thead tr:last-of-type th {\n",
       "        text-align: right;\n",
       "    }\n",
       "</style>\n",
       "<table border=\"1\" class=\"dataframe\">\n",
       "  <thead>\n",
       "    <tr>\n",
       "      <th></th>\n",
       "      <th colspan=\"2\" halign=\"left\">Score</th>\n",
       "    </tr>\n",
       "    <tr>\n",
       "      <th></th>\n",
       "      <th>mean</th>\n",
       "      <th>std</th>\n",
       "    </tr>\n",
       "    <tr>\n",
       "      <th>Modelo</th>\n",
       "      <th></th>\n",
       "      <th></th>\n",
       "    </tr>\n",
       "  </thead>\n",
       "  <tbody>\n",
       "    <tr>\n",
       "      <td>DummyClassifier</td>\n",
       "      <td>0.612128</td>\n",
       "      <td>0.000404</td>\n",
       "    </tr>\n",
       "    <tr>\n",
       "      <td>LogisticRegression</td>\n",
       "      <td>0.983685</td>\n",
       "      <td>0.003920</td>\n",
       "    </tr>\n",
       "    <tr>\n",
       "      <td>MultinomialNB</td>\n",
       "      <td>0.753887</td>\n",
       "      <td>0.000287</td>\n",
       "    </tr>\n",
       "    <tr>\n",
       "      <td>RandomForestClassifier</td>\n",
       "      <td>0.994306</td>\n",
       "      <td>0.003247</td>\n",
       "    </tr>\n",
       "    <tr>\n",
       "      <td>SGDClassifier</td>\n",
       "      <td>0.988149</td>\n",
       "      <td>0.006325</td>\n",
       "    </tr>\n",
       "  </tbody>\n",
       "</table>\n",
       "</div>"
      ],
      "text/plain": [
       "                           Score          \n",
       "                            mean       std\n",
       "Modelo                                    \n",
       "DummyClassifier         0.612128  0.000404\n",
       "LogisticRegression      0.983685  0.003920\n",
       "MultinomialNB           0.753887  0.000287\n",
       "RandomForestClassifier  0.994306  0.003247\n",
       "SGDClassifier           0.988149  0.006325"
      ]
     },
     "metadata": {},
     "output_type": "display_data"
    },
    {
     "data": {
      "image/png": "[encoded data removed]",
      "text/plain": [
       "<Figure size 1080x576 with 1 Axes>"
      ]
     },
     "metadata": {
      "needs_background": "light"
     },
     "output_type": "display_data"
    }
   ],
   "source": [
    "# X_level0 = entrada do ensemble de classificadores\n",
    "X_level0 = df.loc[:, ~df.columns.isin([\"type\", \"type_White\", \"type_Red\", CLASS_COLUMN]) ]\n",
    "y_level0 = df[\"type\"].values\n",
    "\n",
    "modelo_level0 = best_evaluated_model(X_level0, y_level0, cv = 10)"
   ]
  },
  {
   "cell_type": "markdown",
   "metadata": {},
   "source": [
    "**CONCLUSÕES PARCIAIS**: conforme esperado, o melhor modelo classificador (uma Floresta de Árvores de Decisão, ou `RandomForestClassifier`) de tipo de vinho conseguiu excelente performance, obtendo um `F1-score` *(micro, dada a característica desbalanceada)* de ~99% <u>com validação cruzada de 10 folds</u>, o que nos dá tranquilidade de continuarmos com a construção de nosso ensemble. "
   ]
  },
  {
   "cell_type": "markdown",
   "metadata": {},
   "source": [
    "### Classificador de Segundo nível: qualidade do vinho (ajuste por tipo)"
   ]
  },
  {
   "cell_type": "markdown",
   "metadata": {},
   "source": [
    "#### Treinando para Vinho Tinto"
   ]
  },
  {
   "cell_type": "code",
   "execution_count": 18,
   "metadata": {
    "ExecuteTime": {
     "end_time": "2019-09-15T16:27:26.187108Z",
     "start_time": "2019-09-15T16:27:25.243649Z"
    }
   },
   "outputs": [
    {
     "name": "stdout",
     "output_type": "stream",
     "text": [
      "Avaliando modelos, aguarde...\n"
     ]
    },
    {
     "data": {
      "application/vnd.jupyter.widget-view+json": {
       "model_id": "df7e8f9a63244cd68d4f22f6f3643953",
       "version_major": 2,
       "version_minor": 0
      },
      "text/plain": [
       "HBox(children=(IntProgress(value=0, max=5), HTML(value='')))"
      ]
     },
     "metadata": {},
     "output_type": "display_data"
    },
    {
     "name": "stdout",
     "output_type": "stream",
     "text": [
      "\n",
      "Resultado da avaliação de modelos com validação cruzada (10 folds):\n"
     ]
    },
    {
     "data": {
      "text/html": [
       "<div>\n",
       "<style scoped>\n",
       "    .dataframe tbody tr th:only-of-type {\n",
       "        vertical-align: middle;\n",
       "    }\n",
       "\n",
       "    .dataframe tbody tr th {\n",
       "        vertical-align: top;\n",
       "    }\n",
       "\n",
       "    .dataframe thead tr th {\n",
       "        text-align: left;\n",
       "    }\n",
       "\n",
       "    .dataframe thead tr:last-of-type th {\n",
       "        text-align: right;\n",
       "    }\n",
       "</style>\n",
       "<table border=\"1\" class=\"dataframe\">\n",
       "  <thead>\n",
       "    <tr>\n",
       "      <th></th>\n",
       "      <th colspan=\"2\" halign=\"left\">Score</th>\n",
       "    </tr>\n",
       "    <tr>\n",
       "      <th></th>\n",
       "      <th>mean</th>\n",
       "      <th>std</th>\n",
       "    </tr>\n",
       "    <tr>\n",
       "      <th>Modelo</th>\n",
       "      <th></th>\n",
       "      <th></th>\n",
       "    </tr>\n",
       "  </thead>\n",
       "  <tbody>\n",
       "    <tr>\n",
       "      <td>DummyClassifier</td>\n",
       "      <td>0.349195</td>\n",
       "      <td>0.034886</td>\n",
       "    </tr>\n",
       "    <tr>\n",
       "      <td>LogisticRegression</td>\n",
       "      <td>0.524871</td>\n",
       "      <td>0.055532</td>\n",
       "    </tr>\n",
       "    <tr>\n",
       "      <td>MultinomialNB</td>\n",
       "      <td>0.518461</td>\n",
       "      <td>0.060600</td>\n",
       "    </tr>\n",
       "    <tr>\n",
       "      <td>RandomForestClassifier</td>\n",
       "      <td>0.554866</td>\n",
       "      <td>0.033786</td>\n",
       "    </tr>\n",
       "    <tr>\n",
       "      <td>SGDClassifier</td>\n",
       "      <td>0.450339</td>\n",
       "      <td>0.144621</td>\n",
       "    </tr>\n",
       "  </tbody>\n",
       "</table>\n",
       "</div>"
      ],
      "text/plain": [
       "                           Score          \n",
       "                            mean       std\n",
       "Modelo                                    \n",
       "DummyClassifier         0.349195  0.034886\n",
       "LogisticRegression      0.524871  0.055532\n",
       "MultinomialNB           0.518461  0.060600\n",
       "RandomForestClassifier  0.554866  0.033786\n",
       "SGDClassifier           0.450339  0.144621"
      ]
     },
     "metadata": {},
     "output_type": "display_data"
    },
    {
     "data": {
      "image/png": "[encoded data removed]",
      "text/plain": [
       "<Figure size 1080x576 with 1 Axes>"
      ]
     },
     "metadata": {
      "needs_background": "light"
     },
     "output_type": "display_data"
    }
   ],
   "source": [
    "# X_level0 = entrada do ensemble de classificadores\n",
    "X_level1_red = df.loc[ df[\"type\"] == \"Red\", ~df.columns.isin([\"type\", \"type_White\", \"type_Red\", CLASS_COLUMN]) ]\n",
    "y_level1_red = df.loc[ df[\"type\"] == \"Red\", \"quality\"].values\n",
    "\n",
    "model_level1_red = best_evaluated_model(X_level1_red, y_level1_red, cv = 10)"
   ]
  },
  {
   "cell_type": "markdown",
   "metadata": {},
   "source": [
    "**CONCLUSÕES PARCIAIS**: o mellhor modelo avaliado ainda possui performance não muito razoável. Por isso, vamos avaliar o possível motivo deste resultado."
   ]
  },
  {
   "cell_type": "code",
   "execution_count": 19,
   "metadata": {
    "ExecuteTime": {
     "end_time": "2019-09-15T16:27:26.256928Z",
     "start_time": "2019-09-15T16:27:26.189120Z"
    }
   },
   "outputs": [
    {
     "name": "stdout",
     "output_type": "stream",
     "text": [
      "              precision    recall  f1-score   support\n",
      "\n",
      "           3       0.00      0.00      0.00         1\n",
      "           4       1.00      0.17      0.29         6\n",
      "           5       0.67      0.76      0.71        67\n",
      "           6       0.56      0.61      0.59        59\n",
      "           7       0.74      0.56      0.64        25\n",
      "           8       0.00      0.00      0.00         2\n",
      "\n",
      "    accuracy                           0.64       160\n",
      "   macro avg       0.50      0.35      0.37       160\n",
      "weighted avg       0.64      0.64      0.62       160\n",
      "\n"
     ]
    }
   ],
   "source": [
    "# Split dos dados em treino e teste\n",
    "X_train, X_test, y_train, y_test = train_test_split(\n",
    "    X_level1_red, y_level1_red, \n",
    "    test_size = TEST_SIZE, \n",
    "    random_state = SEED\n",
    ")\n",
    "\n",
    "model_level1_red.fit(X_train, y_train)\n",
    "\n",
    "y_pred = model_level1_red.predict(X_test)\n",
    "print(metrics.classification_report(y_test, y_pred))"
   ]
  },
  {
   "cell_type": "markdown",
   "metadata": {},
   "source": [
    "Podemos observar que o desbalanceamento possui grande impacto no ajuste do modelo. Sendo assim, vamos aplicar uma técnica de Oversampling nos dados, a fim de balancear sinteticamente os mesmos e obter um dataset mais factível para o modelo."
   ]
  },
  {
   "cell_type": "code",
   "execution_count": 20,
   "metadata": {
    "ExecuteTime": {
     "end_time": "2019-09-15T16:27:27.206372Z",
     "start_time": "2019-09-15T16:27:26.261906Z"
    }
   },
   "outputs": [
    {
     "name": "stdout",
     "output_type": "stream",
     "text": [
      "Avaliando modelos, aguarde...\n"
     ]
    },
    {
     "data": {
      "application/vnd.jupyter.widget-view+json": {
       "model_id": "69006445a2ad4b278e5f5fd990d2f37d",
       "version_major": 2,
       "version_minor": 0
      },
      "text/plain": [
       "HBox(children=(IntProgress(value=0, max=5), HTML(value='')))"
      ]
     },
     "metadata": {},
     "output_type": "display_data"
    },
    {
     "name": "stdout",
     "output_type": "stream",
     "text": [
      "\n",
      "Resultado da avaliação de modelos com validação cruzada (10 folds):\n"
     ]
    },
    {
     "data": {
      "text/html": [
       "<div>\n",
       "<style scoped>\n",
       "    .dataframe tbody tr th:only-of-type {\n",
       "        vertical-align: middle;\n",
       "    }\n",
       "\n",
       "    .dataframe tbody tr th {\n",
       "        vertical-align: top;\n",
       "    }\n",
       "\n",
       "    .dataframe thead tr th {\n",
       "        text-align: left;\n",
       "    }\n",
       "\n",
       "    .dataframe thead tr:last-of-type th {\n",
       "        text-align: right;\n",
       "    }\n",
       "</style>\n",
       "<table border=\"1\" class=\"dataframe\">\n",
       "  <thead>\n",
       "    <tr>\n",
       "      <th></th>\n",
       "      <th colspan=\"2\" halign=\"left\">Score</th>\n",
       "    </tr>\n",
       "    <tr>\n",
       "      <th></th>\n",
       "      <th>mean</th>\n",
       "      <th>std</th>\n",
       "    </tr>\n",
       "    <tr>\n",
       "      <th>Modelo</th>\n",
       "      <th></th>\n",
       "      <th></th>\n",
       "    </tr>\n",
       "  </thead>\n",
       "  <tbody>\n",
       "    <tr>\n",
       "      <td>DummyClassifier</td>\n",
       "      <td>0.167196</td>\n",
       "      <td>0.013475</td>\n",
       "    </tr>\n",
       "    <tr>\n",
       "      <td>LogisticRegression</td>\n",
       "      <td>0.499524</td>\n",
       "      <td>0.028197</td>\n",
       "    </tr>\n",
       "    <tr>\n",
       "      <td>MultinomialNB</td>\n",
       "      <td>0.436324</td>\n",
       "      <td>0.029535</td>\n",
       "    </tr>\n",
       "    <tr>\n",
       "      <td>RandomForestClassifier</td>\n",
       "      <td>0.862724</td>\n",
       "      <td>0.029104</td>\n",
       "    </tr>\n",
       "    <tr>\n",
       "      <td>SGDClassifier</td>\n",
       "      <td>0.472471</td>\n",
       "      <td>0.033645</td>\n",
       "    </tr>\n",
       "  </tbody>\n",
       "</table>\n",
       "</div>"
      ],
      "text/plain": [
       "                           Score          \n",
       "                            mean       std\n",
       "Modelo                                    \n",
       "DummyClassifier         0.167196  0.013475\n",
       "LogisticRegression      0.499524  0.028197\n",
       "MultinomialNB           0.436324  0.029535\n",
       "RandomForestClassifier  0.862724  0.029104\n",
       "SGDClassifier           0.472471  0.033645"
      ]
     },
     "metadata": {},
     "output_type": "display_data"
    },
    {
     "data": {
      "image/png": "[encoded data removed]",
      "text/plain": [
       "<Figure size 1080x576 with 1 Axes>"
      ]
     },
     "metadata": {
      "needs_background": "light"
     },
     "output_type": "display_data"
    }
   ],
   "source": [
    "X_level1_red_resampled, y_level1_red_resampled = \\\n",
    "    RandomOverSampler(random_state=SEED).fit_resample(X_level1_red, y_level1_red)\n",
    "\n",
    "model_level1_red = best_evaluated_model(X_level1_red_resampled, y_level1_red_resampled, cv = 10)"
   ]
  },
  {
   "cell_type": "code",
   "execution_count": 21,
   "metadata": {
    "ExecuteTime": {
     "end_time": "2019-09-15T16:27:27.280200Z",
     "start_time": "2019-09-15T16:27:27.207369Z"
    }
   },
   "outputs": [
    {
     "name": "stdout",
     "output_type": "stream",
     "text": [
      "              precision    recall  f1-score   support\n",
      "\n",
      "           3       0.99      1.00      0.99        69\n",
      "           4       0.96      1.00      0.98        66\n",
      "           5       0.84      0.78      0.81        79\n",
      "           6       0.77      0.69      0.73        54\n",
      "           7       0.90      1.00      0.95        66\n",
      "           8       1.00      1.00      1.00        75\n",
      "\n",
      "    accuracy                           0.92       409\n",
      "   macro avg       0.91      0.91      0.91       409\n",
      "weighted avg       0.91      0.92      0.91       409\n",
      "\n"
     ]
    }
   ],
   "source": [
    "# Split dos dados em treino e teste\n",
    "X_train, X_test, y_train, y_test = train_test_split(\n",
    "    X_level1_red_resampled, y_level1_red_resampled, \n",
    "    test_size = TEST_SIZE, \n",
    "    random_state = SEED\n",
    ")\n",
    "\n",
    "model_level1_red.fit(X_train, y_train)\n",
    "\n",
    "y_pred = model_level1_red.predict(X_test)\n",
    "print(metrics.classification_report(y_test, y_pred))"
   ]
  },
  {
   "cell_type": "markdown",
   "metadata": {},
   "source": [
    "**Ótimo!!!**\n",
    "\n",
    "Como podemos observar acima, o processo de `Oversampling` otimizou os resultados do classificador, nos fornecendo um modelo com desempenho `~86% de F1-score` na avaliação com validação cruzada e `~91% de F1-score` no conjunto de teste!\n",
    "\n",
    "Além disso, através do `classification_report`, observa-se que todas as classes estão com desempenho bastante razoável, o que nos trás maior segurança a cerca do comportamento do modelo. \n",
    "\n",
    "Deste modo, podemos assumir o mesmo processo para treinar o classificador de qualidade de `vinho branco`."
   ]
  },
  {
   "cell_type": "markdown",
   "metadata": {},
   "source": [
    "#### Treinando para Vinho Branco"
   ]
  },
  {
   "cell_type": "code",
   "execution_count": 22,
   "metadata": {
    "ExecuteTime": {
     "end_time": "2019-09-15T16:27:30.654147Z",
     "start_time": "2019-09-15T16:27:27.282170Z"
    }
   },
   "outputs": [
    {
     "name": "stdout",
     "output_type": "stream",
     "text": [
      "Avaliando modelos, aguarde...\n"
     ]
    },
    {
     "data": {
      "application/vnd.jupyter.widget-view+json": {
       "model_id": "ac0f9e441c26440b8dd1cb76aa5b0a8e",
       "version_major": 2,
       "version_minor": 0
      },
      "text/plain": [
       "HBox(children=(IntProgress(value=0, max=5), HTML(value='')))"
      ]
     },
     "metadata": {},
     "output_type": "display_data"
    },
    {
     "name": "stdout",
     "output_type": "stream",
     "text": [
      "\n",
      "Resultado da avaliação de modelos com validação cruzada (10 folds):\n"
     ]
    },
    {
     "data": {
      "text/html": [
       "<div>\n",
       "<style scoped>\n",
       "    .dataframe tbody tr th:only-of-type {\n",
       "        vertical-align: middle;\n",
       "    }\n",
       "\n",
       "    .dataframe tbody tr th {\n",
       "        vertical-align: top;\n",
       "    }\n",
       "\n",
       "    .dataframe thead tr th {\n",
       "        text-align: left;\n",
       "    }\n",
       "\n",
       "    .dataframe thead tr:last-of-type th {\n",
       "        text-align: right;\n",
       "    }\n",
       "</style>\n",
       "<table border=\"1\" class=\"dataframe\">\n",
       "  <thead>\n",
       "    <tr>\n",
       "      <th></th>\n",
       "      <th colspan=\"2\" halign=\"left\">Score</th>\n",
       "    </tr>\n",
       "    <tr>\n",
       "      <th></th>\n",
       "      <th>mean</th>\n",
       "      <th>std</th>\n",
       "    </tr>\n",
       "    <tr>\n",
       "      <th>Modelo</th>\n",
       "      <th></th>\n",
       "      <th></th>\n",
       "    </tr>\n",
       "  </thead>\n",
       "  <tbody>\n",
       "    <tr>\n",
       "      <td>DummyClassifier</td>\n",
       "      <td>0.149035</td>\n",
       "      <td>0.006501</td>\n",
       "    </tr>\n",
       "    <tr>\n",
       "      <td>LogisticRegression</td>\n",
       "      <td>0.457052</td>\n",
       "      <td>0.018869</td>\n",
       "    </tr>\n",
       "    <tr>\n",
       "      <td>MultinomialNB</td>\n",
       "      <td>0.358844</td>\n",
       "      <td>0.017012</td>\n",
       "    </tr>\n",
       "    <tr>\n",
       "      <td>RandomForestClassifier</td>\n",
       "      <td>0.898638</td>\n",
       "      <td>0.027242</td>\n",
       "    </tr>\n",
       "    <tr>\n",
       "      <td>SGDClassifier</td>\n",
       "      <td>0.385881</td>\n",
       "      <td>0.024400</td>\n",
       "    </tr>\n",
       "  </tbody>\n",
       "</table>\n",
       "</div>"
      ],
      "text/plain": [
       "                           Score          \n",
       "                            mean       std\n",
       "Modelo                                    \n",
       "DummyClassifier         0.149035  0.006501\n",
       "LogisticRegression      0.457052  0.018869\n",
       "MultinomialNB           0.358844  0.017012\n",
       "RandomForestClassifier  0.898638  0.027242\n",
       "SGDClassifier           0.385881  0.024400"
      ]
     },
     "metadata": {},
     "output_type": "display_data"
    },
    {
     "data": {
      "image/png": "[encoded data removed]",
      "text/plain": [
       "<Figure size 1080x576 with 1 Axes>"
      ]
     },
     "metadata": {
      "needs_background": "light"
     },
     "output_type": "display_data"
    }
   ],
   "source": [
    "# X_level0 = entrada do ensemble de classificadores\n",
    "X_level1_white = df.loc[ df[\"type\"] == \"White\", ~df.columns.isin([\"type\", \"type_White\", \"type_Red\", CLASS_COLUMN]) ]\n",
    "y_level1_white = df.loc[ df[\"type\"] == \"White\", \"quality\"].values\n",
    "\n",
    "X_level1_white_resampled, y_level1_white_resampled = \\\n",
    "    RandomOverSampler(random_state=SEED).fit_resample(X_level1_white, y_level1_white)\n",
    "\n",
    "model_level1_white = best_evaluated_model(X_level1_white_resampled, y_level1_white_resampled, cv = 10)"
   ]
  },
  {
   "cell_type": "code",
   "execution_count": 23,
   "metadata": {
    "ExecuteTime": {
     "end_time": "2019-09-15T16:27:30.863595Z",
     "start_time": "2019-09-15T16:27:30.658138Z"
    }
   },
   "outputs": [
    {
     "name": "stdout",
     "output_type": "stream",
     "text": [
      "              precision    recall  f1-score   support\n",
      "\n",
      "           3       1.00      1.00      1.00       210\n",
      "           4       0.99      1.00      0.99       209\n",
      "           5       0.81      0.86      0.83       216\n",
      "           6       0.77      0.69      0.73       214\n",
      "           7       0.90      0.92      0.91       223\n",
      "           8       1.00      1.00      1.00       228\n",
      "           9       1.00      1.00      1.00       239\n",
      "\n",
      "    accuracy                           0.93      1539\n",
      "   macro avg       0.92      0.92      0.92      1539\n",
      "weighted avg       0.92      0.93      0.92      1539\n",
      "\n"
     ]
    }
   ],
   "source": [
    "X_train, X_test, y_train, y_test = train_test_split(\n",
    "    X_level1_white_resampled, y_level1_white_resampled, \n",
    "    test_size = TEST_SIZE, \n",
    "    random_state = SEED\n",
    ")\n",
    "\n",
    "model_level1_white.fit(X_train, y_train)\n",
    "\n",
    "y_pred = model_level1_white.predict(X_test)\n",
    "print(metrics.classification_report(y_test, y_pred))"
   ]
  },
  {
   "cell_type": "markdown",
   "metadata": {},
   "source": [
    "Conforme esperado, encontramos um modelo com performance bastante interessante, novamente um classificador `RandomForest`, que obteve `~89,6% de F1-score` com validação cruzada e `~92%` desta mesma métrica no conjunto de teste, com performance individual bastante satisfatória.\n",
    "\n",
    "Neste momento, temos um Ensemble bastante robusto o qual, divido em 3 modelos dispostos em duas camadas (ou níveis) potencialmente resolverão a classificação de maneira efetiva.\n",
    "\n",
    "Por fim, como último teste, dado que o Oversampling mostrou uma grande melhoria no processo de construção de modelo, iremos avaliar se é possível construir um **modelo único** que classifique a qualidade do vinho independente do tipo (proposta antagônica ao Ensemble aqui discutido)."
   ]
  },
  {
   "cell_type": "markdown",
   "metadata": {},
   "source": [
    "## Hipótese 2) Classificador único"
   ]
  },
  {
   "cell_type": "code",
   "execution_count": 24,
   "metadata": {
    "ExecuteTime": {
     "end_time": "2019-09-15T16:27:35.962947Z",
     "start_time": "2019-09-15T16:27:30.866596Z"
    }
   },
   "outputs": [
    {
     "name": "stdout",
     "output_type": "stream",
     "text": [
      "Avaliando modelos, aguarde...\n"
     ]
    },
    {
     "data": {
      "application/vnd.jupyter.widget-view+json": {
       "model_id": "9da2dfb7114942ba849f8965a65fc079",
       "version_major": 2,
       "version_minor": 0
      },
      "text/plain": [
       "HBox(children=(IntProgress(value=0, max=5), HTML(value='')))"
      ]
     },
     "metadata": {},
     "output_type": "display_data"
    },
    {
     "name": "stdout",
     "output_type": "stream",
     "text": [
      "\n",
      "Resultado da avaliação de modelos com validação cruzada (10 folds):\n"
     ]
    },
    {
     "data": {
      "text/html": [
       "<div>\n",
       "<style scoped>\n",
       "    .dataframe tbody tr th:only-of-type {\n",
       "        vertical-align: middle;\n",
       "    }\n",
       "\n",
       "    .dataframe tbody tr th {\n",
       "        vertical-align: top;\n",
       "    }\n",
       "\n",
       "    .dataframe thead tr th {\n",
       "        text-align: left;\n",
       "    }\n",
       "\n",
       "    .dataframe thead tr:last-of-type th {\n",
       "        text-align: right;\n",
       "    }\n",
       "</style>\n",
       "<table border=\"1\" class=\"dataframe\">\n",
       "  <thead>\n",
       "    <tr>\n",
       "      <th></th>\n",
       "      <th colspan=\"2\" halign=\"left\">Score</th>\n",
       "    </tr>\n",
       "    <tr>\n",
       "      <th></th>\n",
       "      <th>mean</th>\n",
       "      <th>std</th>\n",
       "    </tr>\n",
       "    <tr>\n",
       "      <th>Modelo</th>\n",
       "      <th></th>\n",
       "      <th></th>\n",
       "    </tr>\n",
       "  </thead>\n",
       "  <tbody>\n",
       "    <tr>\n",
       "      <td>DummyClassifier</td>\n",
       "      <td>0.142158</td>\n",
       "      <td>0.007159</td>\n",
       "    </tr>\n",
       "    <tr>\n",
       "      <td>LogisticRegression</td>\n",
       "      <td>0.446660</td>\n",
       "      <td>0.021071</td>\n",
       "    </tr>\n",
       "    <tr>\n",
       "      <td>MultinomialNB</td>\n",
       "      <td>0.199732</td>\n",
       "      <td>0.008431</td>\n",
       "    </tr>\n",
       "    <tr>\n",
       "      <td>RandomForestClassifier</td>\n",
       "      <td>0.877752</td>\n",
       "      <td>0.014156</td>\n",
       "    </tr>\n",
       "    <tr>\n",
       "      <td>SGDClassifier</td>\n",
       "      <td>0.368928</td>\n",
       "      <td>0.052499</td>\n",
       "    </tr>\n",
       "  </tbody>\n",
       "</table>\n",
       "</div>"
      ],
      "text/plain": [
       "                           Score          \n",
       "                            mean       std\n",
       "Modelo                                    \n",
       "DummyClassifier         0.142158  0.007159\n",
       "LogisticRegression      0.446660  0.021071\n",
       "MultinomialNB           0.199732  0.008431\n",
       "RandomForestClassifier  0.877752  0.014156\n",
       "SGDClassifier           0.368928  0.052499"
      ]
     },
     "metadata": {},
     "output_type": "display_data"
    },
    {
     "data": {
      "image/png": "[encoded data removed]",
      "text/plain": [
       "<Figure size 1080x576 with 1 Axes>"
      ]
     },
     "metadata": {
      "needs_background": "light"
     },
     "output_type": "display_data"
    }
   ],
   "source": [
    "# X_level0 = entrada do ensemble de classificadores\n",
    "X = df.loc[ :, ~df.columns.isin([\"type\", CLASS_COLUMN]) ]\n",
    "y = df.loc[ :, \"quality\"].values\n",
    "\n",
    "X_resampled, y_resampled = RandomOverSampler(random_state=SEED).fit_resample(X, y)\n",
    "\n",
    "model = best_evaluated_model(X_resampled, y_resampled, cv = 10)"
   ]
  },
  {
   "cell_type": "code",
   "execution_count": 25,
   "metadata": {
    "ExecuteTime": {
     "end_time": "2019-09-15T16:27:36.198316Z",
     "start_time": "2019-09-15T16:27:35.964942Z"
    }
   },
   "outputs": [
    {
     "name": "stdout",
     "output_type": "stream",
     "text": [
      "              precision    recall  f1-score   support\n",
      "\n",
      "           3       1.00      1.00      1.00       309\n",
      "           4       0.99      1.00      0.99       263\n",
      "           5       0.84      0.87      0.86       307\n",
      "           6       0.84      0.72      0.78       290\n",
      "           7       0.90      0.99      0.94       274\n",
      "           8       1.00      1.00      1.00       272\n",
      "           9       1.00      1.00      1.00       271\n",
      "\n",
      "    accuracy                           0.94      1986\n",
      "   macro avg       0.94      0.94      0.94      1986\n",
      "weighted avg       0.94      0.94      0.94      1986\n",
      "\n"
     ]
    }
   ],
   "source": [
    "X_train, X_test, y_train, y_test = train_test_split(\n",
    "    X_resampled, y_resampled, \n",
    "    test_size = TEST_SIZE, \n",
    "    random_state = SEED\n",
    ")\n",
    "\n",
    "model.fit(X_train, y_train)\n",
    "\n",
    "y_pred = model.predict(X_test)\n",
    "print(metrics.classification_report(y_test, y_pred))"
   ]
  },
  {
   "cell_type": "markdown",
   "metadata": {},
   "source": [
    "**Excelente!!!**\n",
    "\n",
    "A adoção de Oversampling melhororu subtancialmente o modelo, ainda que único, para a classificação de qualidade de vinho: conseguimos um desempenho de `~88% de F1-score` na avaliação com validação cruzada (10 folds) e `~94% no conjunto de teste`!\n",
    "\n",
    "Sendo assim, dada a menor complexidade de de construção e consequente menor custo computacional para seu processamento, iremos escolher a abordagem baseada em **`classificador único`** para este projeto."
   ]
  },
  {
   "cell_type": "markdown",
   "metadata": {},
   "source": [
    "# Otimização e Análise do Modelo"
   ]
  },
  {
   "cell_type": "code",
   "execution_count": 26,
   "metadata": {
    "ExecuteTime": {
     "end_time": "2019-09-15T16:27:36.212279Z",
     "start_time": "2019-09-15T16:27:36.199313Z"
    }
   },
   "outputs": [],
   "source": [
    "from sklearn.utils.multiclass import unique_labels\n",
    "from sklearn.metrics import confusion_matrix\n",
    "\n",
    "def plot_confusion_matrix(y_true, y_pred, classes,\n",
    "                          normalize=False,\n",
    "                          title=None,\n",
    "                          cmap=plt.cm.Blues):\n",
    "    \"\"\"\n",
    "    This function prints and plots the confusion matrix.\n",
    "    Normalization can be applied by setting `normalize=True`.\n",
    "    \"\"\"\n",
    "    if not title:\n",
    "        if normalize:\n",
    "            title += ' (dados normalizados)'\n",
    "\n",
    "    # Compute confusion matrix\n",
    "    cm = confusion_matrix(y_true, y_pred)\n",
    "    # Only use the labels that appear in the data\n",
    "    #classes = classes[unique_labels(y_true, y_pred)]\n",
    "    classes = unique_labels(y_true, y_pred)\n",
    "\n",
    "    if normalize:\n",
    "        cm = cm.astype('float') / cm.sum(axis=1)[:, np.newaxis]\n",
    "\n",
    "    fig, ax = plt.subplots(figsize=(15, 10))\n",
    "    im = ax.imshow(cm, interpolation='nearest', cmap=cmap)\n",
    "    ax.figure.colorbar(im, ax=ax)\n",
    "    # We want to show all ticks...\n",
    "    ax.set(xticks=np.arange(cm.shape[1]),\n",
    "           yticks=np.arange(cm.shape[0]),\n",
    "           # ... and label them with the respective list entries\n",
    "           xticklabels=classes, yticklabels=classes,\n",
    "           title=title,\n",
    "           ylabel='Original',\n",
    "           xlabel='Classificado')\n",
    "\n",
    "    # Rotate the tick labels and set their alignment.\n",
    "    plt.setp(ax.get_xticklabels(), rotation=45, ha=\"right\",\n",
    "             rotation_mode=\"anchor\")\n",
    "\n",
    "    # Loop over data dimensions and create text annotations.\n",
    "    fmt = '.2f' if normalize else 'd'\n",
    "    thresh = cm.max() / 2.\n",
    "    for i in range(cm.shape[0]):\n",
    "        for j in range(cm.shape[1]):\n",
    "            ax.text(j, i, format(cm[i, j], fmt),\n",
    "                    ha=\"center\", va=\"center\",\n",
    "                    color=\"white\" if cm[i, j] > thresh else \"black\")\n",
    "    #fig.tight_layout()\n",
    "    plt.show();\n",
    "    return ax"
   ]
  },
  {
   "cell_type": "code",
   "execution_count": 27,
   "metadata": {
    "ExecuteTime": {
     "end_time": "2019-09-15T16:27:36.232265Z",
     "start_time": "2019-09-15T16:27:36.214275Z"
    }
   },
   "outputs": [
    {
     "data": {
      "text/plain": [
       "RandomForestClassifier(bootstrap=True, class_weight='balanced',\n",
       "                       criterion='gini', max_depth=None, max_features='auto',\n",
       "                       max_leaf_nodes=None, min_impurity_decrease=0.0,\n",
       "                       min_impurity_split=None, min_samples_leaf=1,\n",
       "                       min_samples_split=2, min_weight_fraction_leaf=0.0,\n",
       "                       n_estimators=10, n_jobs=None, oob_score=False,\n",
       "                       random_state=33, verbose=0, warm_start=False)"
      ]
     },
     "execution_count": 27,
     "metadata": {},
     "output_type": "execute_result"
    }
   ],
   "source": [
    "model"
   ]
  },
  {
   "cell_type": "markdown",
   "metadata": {},
   "source": [
    "## Otimização de Hiperparâmetros do Modelo"
   ]
  },
  {
   "cell_type": "markdown",
   "metadata": {},
   "source": [
    "A partir de um modelo base estabelecido, iremos tentar otimizar também seus hiperparâmetros. Para isto, iremos utiliza a Pesquisa em Grade Aleatorizada (RandomizedSearchCV), onde iremos delimitar um espaço de busca discreto a fim de encontrar a melhor combinação possível de hiperparâmetros do algoritmo (`RandomForestClassifier`) em questão."
   ]
  },
  {
   "cell_type": "code",
   "execution_count": 28,
   "metadata": {
    "ExecuteTime": {
     "end_time": "2019-09-15T17:43:25.537493Z",
     "start_time": "2019-09-15T16:27:36.236215Z"
    }
   },
   "outputs": [
    {
     "name": "stdout",
     "output_type": "stream",
     "text": [
      "Otimizando hiperparâmetros...\n",
      "Fitting 5 folds for each of 200 candidates, totalling 1000 fits\n"
     ]
    },
    {
     "name": "stderr",
     "output_type": "stream",
     "text": [
      "[Parallel(n_jobs=10)]: Using backend LokyBackend with 10 concurrent workers.\n",
      "[Parallel(n_jobs=10)]: Done  21 tasks      | elapsed:    4.1s\n",
      "[Parallel(n_jobs=10)]: Done  52 tasks      | elapsed:  4.4min\n",
      "[Parallel(n_jobs=10)]: Done  93 tasks      | elapsed:  5.9min\n",
      "[Parallel(n_jobs=10)]: Done 142 tasks      | elapsed:  8.6min\n",
      "[Parallel(n_jobs=10)]: Done 201 tasks      | elapsed: 12.6min\n",
      "[Parallel(n_jobs=10)]: Done 268 tasks      | elapsed: 17.4min\n",
      "[Parallel(n_jobs=10)]: Done 345 tasks      | elapsed: 26.0min\n",
      "[Parallel(n_jobs=10)]: Done 430 tasks      | elapsed: 29.5min\n",
      "[Parallel(n_jobs=10)]: Done 525 tasks      | elapsed: 39.2min\n",
      "[Parallel(n_jobs=10)]: Done 628 tasks      | elapsed: 44.9min\n",
      "[Parallel(n_jobs=10)]: Done 741 tasks      | elapsed: 54.8min\n",
      "[Parallel(n_jobs=10)]: Done 862 tasks      | elapsed: 60.6min\n",
      "[Parallel(n_jobs=10)]: Done 1000 out of 1000 | elapsed: 75.3min finished\n"
     ]
    },
    {
     "name": "stdout",
     "output_type": "stream",
     "text": [
      "Otimização levou 4549.26 segundos para avaliar 200 combinações de hiperparâmetros.\n",
      "Resultado final:\n",
      "Model with rank: 1\n",
      "Mean validation score: 0.884 (std: 0.014)\n",
      "Parameters: {'n_estimators': 1000, 'min_samples_split': 2, 'min_samples_leaf': 1, 'max_features': 'sqrt', 'max_depth': None, 'criterion': 'entropy', 'bootstrap': False}\n",
      "\n",
      "Model with rank: 2\n",
      "Mean validation score: 0.883 (std: 0.014)\n",
      "Parameters: {'n_estimators': 3000, 'min_samples_split': 2, 'min_samples_leaf': 1, 'max_features': 'sqrt', 'max_depth': 100, 'criterion': 'entropy', 'bootstrap': False}\n",
      "\n",
      "Model with rank: 3\n",
      "Mean validation score: 0.883 (std: 0.014)\n",
      "Parameters: {'n_estimators': 1000, 'min_samples_split': 2, 'min_samples_leaf': 1, 'max_features': 'auto', 'max_depth': 50, 'criterion': 'gini', 'bootstrap': False}\n",
      "\n"
     ]
    }
   ],
   "source": [
    "from sklearn.model_selection import GridSearchCV, RandomizedSearchCV\n",
    "\n",
    "def report(results, n_top=3):\n",
    "    for i in range(1, n_top + 1):\n",
    "        candidates = np.flatnonzero(results['rank_test_score'] == i)\n",
    "        for candidate in candidates:\n",
    "            print(\"Model with rank: {0}\".format(i))\n",
    "            print(\"Mean validation score: {0:.3f} (std: {1:.3f})\".format(\n",
    "                  results['mean_test_score'][candidate],\n",
    "                  results['std_test_score'][candidate]))\n",
    "            print(\"Parameters: {0}\".format(results['params'][candidate]))\n",
    "            print(\"\")\n",
    "\n",
    "param_grid = {\n",
    "    'bootstrap': [True, False],\n",
    "    'criterion': [\"gini\", \"entropy\"],\n",
    "    'max_depth': [50, 100, None],\n",
    "    'max_features': ['auto', 'sqrt'],\n",
    "    'min_samples_leaf': [1, 2, 4],\n",
    "    'min_samples_split': [2, 5, 10],\n",
    "    'n_estimators': [10, 100, 1000, 3000]\n",
    "}\n",
    "\n",
    "# run randomized search\n",
    "n_iter_search = 200\n",
    "optmizer = RandomizedSearchCV(\n",
    "    model, \n",
    "    param_distributions = param_grid,\n",
    "    n_iter = n_iter_search, \n",
    "    cv = 5, \n",
    "    random_state=SEED,\n",
    "    n_jobs = 10,    \n",
    "    verbose = 8    \n",
    ")\n",
    "\n",
    "start = time()\n",
    "print(\"Otimizando hiperparâmetros...\")\n",
    "optmizer.fit(X_resampled, y_resampled)\n",
    "\n",
    "print(\"Otimização levou %.2f segundos para avaliar %d combinações de hiperparâmetros.\" % ((time() - start), len(optmizer.cv_results_['params'])))\n",
    "\n",
    "print(\"Resultado final:\")\n",
    "report(optmizer.cv_results_)"
   ]
  },
  {
   "cell_type": "code",
   "execution_count": 29,
   "metadata": {
    "ExecuteTime": {
     "end_time": "2019-09-15T17:43:25.567411Z",
     "start_time": "2019-09-15T17:43:25.544509Z"
    }
   },
   "outputs": [
    {
     "name": "stdout",
     "output_type": "stream",
     "text": [
      "Detalhes do modelo final otimizado via GridSearchCV...\n"
     ]
    },
    {
     "data": {
      "text/plain": [
       "RandomForestClassifier(bootstrap=False, class_weight='balanced',\n",
       "                       criterion='entropy', max_depth=None, max_features='sqrt',\n",
       "                       max_leaf_nodes=None, min_impurity_decrease=0.0,\n",
       "                       min_impurity_split=None, min_samples_leaf=1,\n",
       "                       min_samples_split=2, min_weight_fraction_leaf=0.0,\n",
       "                       n_estimators=1000, n_jobs=None, oob_score=False,\n",
       "                       random_state=33, verbose=0, warm_start=False)"
      ]
     },
     "execution_count": 29,
     "metadata": {},
     "output_type": "execute_result"
    }
   ],
   "source": [
    "print('Detalhes do modelo final otimizado via GridSearchCV...')\n",
    "best_model = model.set_params(**optmizer.best_params_)\n",
    "best_model"
   ]
  },
  {
   "cell_type": "markdown",
   "metadata": {},
   "source": [
    "## Análise do Modelo Otimizado"
   ]
  },
  {
   "cell_type": "markdown",
   "metadata": {},
   "source": [
    "### Relevância de Atributos (Feature Importance)"
   ]
  },
  {
   "cell_type": "code",
   "execution_count": 30,
   "metadata": {
    "ExecuteTime": {
     "end_time": "2019-09-15T17:43:25.596335Z",
     "start_time": "2019-09-15T17:43:25.570404Z"
    }
   },
   "outputs": [
    {
     "data": {
      "text/plain": [
       "Index(['type', 'fixed_acidity', 'volatile_acidity', 'citric_acid',\n",
       "       'residual_sugar', 'chlorides', 'free_sulfur_dioxide',\n",
       "       'total_sulfur_dioxide', 'density', 'pH', 'sulphates', 'alcohol',\n",
       "       'type_Red', 'type_White'],\n",
       "      dtype='object')"
      ]
     },
     "execution_count": 30,
     "metadata": {},
     "output_type": "execute_result"
    }
   ],
   "source": [
    "features_names = df.columns[df.columns != CLASS_COLUMN]\n",
    "features_names"
   ]
  },
  {
   "cell_type": "code",
   "execution_count": 31,
   "metadata": {
    "ExecuteTime": {
     "end_time": "2019-09-15T17:43:26.011331Z",
     "start_time": "2019-09-15T17:43:25.599328Z"
    }
   },
   "outputs": [
    {
     "data": {
      "image/png": "[encoded data removed]",
      "text/plain": [
       "<Figure size 1080x864 with 1 Axes>"
      ]
     },
     "metadata": {
      "needs_background": "light"
     },
     "output_type": "display_data"
    }
   ],
   "source": [
    "def var_imp_plot(coef, names):\n",
    "    imp = coef\n",
    "    imp,names = zip(*sorted(zip(imp,names)))\n",
    "    fig = plt.figure(figsize=(15,12))\n",
    "    plt.title('TOP-{} atributos'.format(len(coef)))\n",
    "    plt.barh(range(len(names)), imp, align='center')\n",
    "    plt.yticks(range(len(names)), names)\n",
    "    plt.show()\n",
    "\n",
    "# Extrair Feat. Importances do modelo\n",
    "importances = best_model.feature_importances_\n",
    "var_imp_plot(importances, features_names)"
   ]
  },
  {
   "cell_type": "markdown",
   "metadata": {},
   "source": [
    "### Resultados Obtidos (Validação Cruzada / Split de Treino e Teste)"
   ]
  },
  {
   "cell_type": "code",
   "execution_count": 32,
   "metadata": {
    "ExecuteTime": {
     "end_time": "2019-09-15T17:44:50.932466Z",
     "start_time": "2019-09-15T17:43:26.014269Z"
    }
   },
   "outputs": [
    {
     "name": "stdout",
     "output_type": "stream",
     "text": [
      "Avaliação final CV...\n",
      "Performance (F1-score) final: 89.6%\n"
     ]
    }
   ],
   "source": [
    "# Avaliar o resultado (considerando a matriz TF-IDF e rótulos)\n",
    "print(\"Avaliação final CV...\")\n",
    "scores = cross_val_score(\n",
    "    best_model, \n",
    "    X_resampled, y_resampled, \n",
    "    cv = 10, \n",
    "    scoring='f1_micro',\n",
    "    n_jobs = 8, \n",
    "    verbose = 0\n",
    ")\n",
    "print(\"Performance (F1-score) final: {}%\".format( round(np.mean(scores)*100,1) ))"
   ]
  },
  {
   "cell_type": "code",
   "execution_count": 33,
   "metadata": {
    "ExecuteTime": {
     "end_time": "2019-09-15T17:45:24.281278Z",
     "start_time": "2019-09-15T17:44:50.934462Z"
    }
   },
   "outputs": [
    {
     "name": "stdout",
     "output_type": "stream",
     "text": [
      "Relatório de classificação:\n",
      "\n",
      "              precision    recall  f1-score   support\n",
      "\n",
      "           3       1.00      1.00      1.00       309\n",
      "           4       1.00      1.00      1.00       263\n",
      "           5       0.89      0.88      0.89       307\n",
      "           6       0.86      0.82      0.84       290\n",
      "           7       0.93      0.98      0.95       274\n",
      "           8       1.00      1.00      1.00       272\n",
      "           9       1.00      1.00      1.00       271\n",
      "\n",
      "    accuracy                           0.95      1986\n",
      "   macro avg       0.95      0.95      0.95      1986\n",
      "weighted avg       0.95      0.95      0.95      1986\n",
      "\n",
      "\n"
     ]
    },
    {
     "data": {
      "image/png": "[encoded data removed]",
      "text/plain": [
       "<Figure size 1080x720 with 2 Axes>"
      ]
     },
     "metadata": {
      "needs_background": "light"
     },
     "output_type": "display_data"
    }
   ],
   "source": [
    "X_train, X_test, y_train, y_test = train_test_split(\n",
    "    X_resampled, y_resampled, \n",
    "    test_size = TEST_SIZE, \n",
    "    random_state = SEED\n",
    ")\n",
    "\n",
    "best_model.fit(X_train, y_train)\n",
    "\n",
    "y_pred = best_model.predict(X_test)\n",
    "\n",
    "print('Relatório de classificação:\\n')\n",
    "print(metrics.classification_report(y_test, y_pred))\n",
    "\n",
    "print('')\n",
    "plot_confusion_matrix(\n",
    "    y_test, y_pred, \n",
    "    classes=df[CLASS_COLUMN].unique(), \n",
    "    normalize=True,\n",
    "    title=\"Matriz de Confusão Final\"\n",
    ");"
   ]
  },
  {
   "cell_type": "markdown",
   "metadata": {},
   "source": [
    "# Conclusões"
   ]
  },
  {
   "cell_type": "markdown",
   "metadata": {},
   "source": [
    "A partir do estudo conduzido, tomando como base as questões propostas no teste técnico, pode-se concluir que:\n",
    "\n",
    "**a. Como foi a definição da sua estratégia de modelagem?**\n",
    "\n",
    "R: Conforme explicado neste notebook, o processo de Análise Exploratória de Dados (EDA, do inglês *Exploratory Data Analysis*) forneceu insights significativos sobre o dataset, suas característias, inconsistências e potenciais. Assim, a modelagem tomou como base o Oversamplig dos dados, a fim de lidar com o forte desbalanceamento de classes existentes. Ainda, a engenharia de atributos adotada envolveu etapas de Codificação One-hot (variável categórica 'Type') e Centralização dos dados, de modo que se buscou construir um pipeline de pré-processamento que viabilizasse a construção de um modelo classificador baseado em Machine Learning eficiente para o problema em questão.\n",
    "\n",
    "Após o pré-processamento, e análise de diferentes abordagens de classificadores (uma vez que tratamos o problema de análise de classificador como uma saída discreta), avaliamos um conjunto de 5 diferentes algoritmos supervisionados utilizando Validação Cruzada (com 10 folds), que validaram a modelagem desenvolvida.\n",
    "\n",
    "**b. Como foi definida a função de custo utilizada?**\n",
    "\n",
    "R: A função de custo escolhida para o modelo final de Floresta Aleatória foi a 'entropia' ([*entropy*](https://scikit-learn.org/stable/modules/generated/sklearn.ensemble.RandomForestClassifier.html), que mensura o ganho de informação obtido no processo de estruturação/split das árvores), a qual foi definida analiticamente através do método de pesquisa em grade aleatorizada (RandomizedSearchCV), onde se avaliou a melhor combinação possível de hiperparâmetros - incluindo a função de custo - em um conjunto discreto de opções.\n",
    "\n",
    "Apesar do viés analítico da escolha, cabe destacar que, conforme [1], a função de custo em si tem pouco efeito prático para esta classe de algoritmo em questão, uma vez que o custo em si é uma medida de impureza da amostragem que está sendo avaliada em cada nó, e todas as métricas são bastante consistentes, em geral; todavia, uma estratégia mais efetiva é escolher cuidadosamente o método de poda das árvores de decisão, o qual tem maior impacto na qualidade do modelo final.\n",
    "\n",
    "**c. Qual foi o critério utilizado na seleção do modelo final?**\n",
    "\n",
    "R: A avaliação dos modelos foi feita com base na métrica *F1-Score*, uma vez que o objetivo era avaliar o desempenho do modelo na perspectiva de seus acertos (Precisão) e seus erros (*Recall*), tanto de maneira geral (todas as classes) quanto individual (para cada classe - *classification_report*).\n",
    "Assim, conforme detalhado no notebook, o modelo final foi escolhido a partir de um benchmarking com modelos concorrentes que foram avaliados sob as mesmas condições utilizando Validação Cruzada. A partir do momento da escolha do melhor modelo, o mesmo foi submetido a um *RandomizedSearchCV* (pesquisa em grade aleatorizada) de seus hiperparâmetros, que visou definir \"o modelo 'ótimo'\", o qual foi avaliado novamente com Validação Cruzada K-folds e Split de Treino/Teste.\n",
    "\n",
    "**d. Qual foi o critério utilizado para validação do modelo? Por que escolheu utilizar este método?**\n",
    "\n",
    "R: Foi escolhido a Validação cruzada com 10-folds, uma vez que esta estratégia consegue mensurar com integridade a robustez do modelo, garantindo uma avaliação completa a cerca da generalização do modelo.\n",
    "\n",
    "**e. Quais evidências você possui de que seu modelo é suficientemente bom?**\n",
    "\n",
    "R: A partir da combinação da Validação Cruzada com K-folds e a métrica F1-Score, o modelo obteve um desempenho médio final `~89,6%` para <u>TODO</u> o conjunto de dados (10-folds CV) e `~95%` no conjunto de teste, fatores que - em geral - podem indicar um resultado suficientemente \"bom\", . Todavia, ainda há muitas alternativas que potencialmente poderiam otimizar os resultados, através de estratégias mais avançadas, tais como:\n",
    "\n",
    "\t1. Pré-processamento mais completo (redução da dimensionalidade, clustering, permutação de atributos, etc.);\n",
    "\t2. Otimização mais fina de hiperparâmetros;\n",
    "\t3. Avaliar modelos mais complexos (Ensembles Hierárquicos, XGboost, e Redes neurais, por exemplo);\n",
    "\t4. Adotar threshold de confiança nas sugestões do modelo (automatizar apenas classificações nas quais o modelo possui \"confiança\"/probabilidade > C em sua sugestoes - mitigando o risco de erros da IA);\n",
    "\n",
    "Porém, é importante ressaltar que o **critério de aceitação** - ou definição de \"bom\" - é subjetivo, devendo ser definido cuidadosamente junto ao <u>cliente e especialistas no domínio</u> de aplicação, a fim de que se entenda por completo os interesses do projeto e os riscos envolvidos nas sugestões do modelo de ML/IA."
   ]
  },
  {
   "cell_type": "markdown",
   "metadata": {},
   "source": [
    "# Referências:\n",
    "\n",
    "    [1] Introduction to Data Mining, 2005. Disponível em https://www-users.cs.umn.edu/~kumar001/dmbook/\n",
    "    [2] https://scikit-learn.org/stable/user_guide.html\n",
    "    [3] https://towardsdatascience.com/a-deep-dive-into-imbalanced-data-over-sampling-f1167ed74b5\n",
    "    [4] https://scikit-learn.org/stable/auto_examples/model_selection/plot_randomized_search.html\n",
    "    [5] https://machinelearningmastery.com/how-to-tune-algorithm-parameters-with-scikit-learn/\n",
    "    "
   ]
  },
  {
   "cell_type": "markdown",
   "metadata": {},
   "source": [
    "# Fim."
   ]
  }
 ],
 "metadata": {
  "kernelspec": {
   "display_name": "Python (EDA)",
   "language": "python",
   "name": "other-env"
  },
  "language_info": {
   "codemirror_mode": {
    "name": "ipython",
    "version": 3
   },
   "file_extension": ".py",
   "mimetype": "text/x-python",
   "name": "python",
   "nbconvert_exporter": "python",
   "pygments_lexer": "ipython3",
   "version": "3.7.3"
  },
  "toc": {
   "base_numbering": 1,
   "nav_menu": {},
   "number_sections": true,
   "sideBar": true,
   "skip_h1_title": false,
   "title_cell": "Table of Contents",
   "title_sidebar": "Contents",
   "toc_cell": false,
   "toc_position": {},
   "toc_section_display": true,
   "toc_window_display": false
  },
  "varInspector": {
   "cols": {
    "lenName": 16,
    "lenType": 16,
    "lenVar": 40
   },
   "kernels_config": {
    "python": {
     "delete_cmd_postfix": "",
     "delete_cmd_prefix": "del ",
     "library": "var_list.py",
     "varRefreshCmd": "print(var_dic_list())"
    },
    "r": {
     "delete_cmd_postfix": ") ",
     "delete_cmd_prefix": "rm(",
     "library": "var_list.r",
     "varRefreshCmd": "cat(var_dic_list()) "
    }
   },
   "types_to_exclude": [
    "module",
    "function",
    "builtin_function_or_method",
    "instance",
    "_Feature"
   ],
   "window_display": false
  }
 },
 "nbformat": 4,
 "nbformat_minor": 2
}
