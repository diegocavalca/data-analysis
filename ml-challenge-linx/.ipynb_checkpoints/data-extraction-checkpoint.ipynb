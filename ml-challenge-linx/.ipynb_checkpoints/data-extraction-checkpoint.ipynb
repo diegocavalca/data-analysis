{
 "cells": [
  {
   "cell_type": "code",
   "execution_count": 61,
   "metadata": {
    "collapsed": true,
    "deletable": true,
    "editable": true
   },
   "outputs": [],
   "source": [
    "# Bibliotecas e funções necessárias\n",
    "import json, csv, os\n",
    "import pandas as pd\n",
    "\n",
    "def addProduct(pId, products):\n",
    "    if pId not in products: products.append(pId)\n",
    "    return products"
   ]
  },
  {
   "cell_type": "code",
   "execution_count": 62,
   "metadata": {
    "collapsed": false,
    "deletable": true,
    "editable": true
   },
   "outputs": [],
   "source": [
    "# 1º passo: criar schema base \n",
    "# Extrair os produtos presentes nos registros\n",
    "\n",
    "products = []\n",
    "with open('input/data') as data:\n",
    "    i = 0\n",
    "    validate = True\n",
    "    for line in data.readlines():\n",
    "        i = i + 1\n",
    "        register = json.loads(line)\n",
    "        if register.get('products'):\n",
    "            for p in register['products']:\n",
    "                if p.get('pId'):\n",
    "                    products = addProduct(p['pId'], products)\n",
    "                elif p.get('pid'):\n",
    "                    products = addProduct(p['pid'], products)\n",
    "        #elif register.get('productId'):\n",
    "            #products = addProduct(register['productId'], products)\n",
    "        #  Flag de validacao auxiliar (se necessario)\n",
    "        #if validate == False: break\n"
   ]
  },
  {
   "cell_type": "code",
   "execution_count": 72,
   "metadata": {
    "collapsed": true,
    "deletable": true,
    "editable": true
   },
   "outputs": [],
   "source": [
    "# Estruturar cabecalho do novo arquivo de dados\n",
    "fields = [\"source\", \"uid\", \"gender\", \"event_type\", \"page_type\", \"date\", \"timestamp\", \"productId\"]\n",
    "for pId in products:\n",
    "    field = 'pId_' + pId\n",
    "    fields.append(field)\n",
    "    fields.append(field + '_quantity')"
   ]
  },
  {
   "cell_type": "code",
   "execution_count": null,
   "metadata": {
    "collapsed": false
   },
   "outputs": [],
   "source": [
    "# Estruturando dados do arquivo 'data' em um arquivo CSV\n",
    "fileName = 'input/data.csv'\n",
    "if os.path.isfile(fileName):\n",
    "    os.remove(fileName)\n",
    "with open(fileName, 'w') as csvfile:\n",
    "    \n",
    "    writer = csv.DictWriter(csvfile, fieldnames = fields)\n",
    "    writer.writeheader()\n",
    "    \n",
    "    # JSON to CSV\n",
    "    with open('input/data') as content:\n",
    "        for line in content.readlines():\n",
    "            register = json.loads(line)\n",
    "            # Informacoes base do registro\n",
    "            rowCSV = { 'source'     : register['source'],\n",
    "                       'uid'        : register['uid'], \n",
    "                       'gender'     : register['gender'] } \n",
    "            \n",
    "            # Informacoes de produto:\n",
    "            # 1. event_type\n",
    "            if register.get('event_type'):\n",
    "                rowCSV[\"event_type\"] = register['event_type']\n",
    "\n",
    "            # 1. page_type\n",
    "            if register.get('page_type'):\n",
    "                rowCSV[\"page_type\"] = register['page_type']\n",
    "                \n",
    "            # 1. timestamp\n",
    "            if register.get('date'):\n",
    "                rowCSV[\"date\"] = register['date']\n",
    "                \n",
    "            # 1. timestamp\n",
    "            if register.get('timestamp'):\n",
    "                rowCSV[\"timestamp\"] = register['timestamp']\n",
    "                                \n",
    "            # 2. productId\n",
    "            if register.get('productId'):\n",
    "                rowCSV[\"productId\"] = register['productId']\n",
    "                            \n",
    "            # 3. lista de produtos\n",
    "            if register.get('products'):\n",
    "                for p in register['products']:\n",
    "                    if p.get('pId'):\n",
    "                        rowCSV['pId_' + p['pId']] = 'T'\n",
    "                        rowCSV['pId_' + p['pId'] + '_quantity'] = p['quantity']\n",
    "                    elif p.get('pid'):\n",
    "                        rowCSV['pId_' + p['pid']] = 'T'\n",
    "                        rowCSV['pId_' + p['pid'] + '_quantity'] = p['quantity']\n",
    "                        \n",
    "            #elif register.get('productId'):\n",
    "                #rowCSV['pId_' + register['productId']] = 'T'\n",
    "                \n",
    "            #if register[\"page_type\"] == \"product\":\n",
    "            #    productId = r[\"productId\"]\n",
    "            #else:\n",
    "            #    productId = 0\n",
    "            writer.writerow(rowCSV)"
   ]
  },
  {
   "cell_type": "code",
   "execution_count": null,
   "metadata": {
    "collapsed": true
   },
   "outputs": [],
   "source": []
  }
 ],
 "metadata": {
  "kernelspec": {
   "display_name": "Python 3",
   "language": "python",
   "name": "python3"
  },
  "language_info": {
   "codemirror_mode": {
    "name": "ipython",
    "version": 3
   },
   "file_extension": ".py",
   "mimetype": "text/x-python",
   "name": "python",
   "nbconvert_exporter": "python",
   "pygments_lexer": "ipython3",
   "version": "3.6.0"
  }
 },
 "nbformat": 4,
 "nbformat_minor": 2
}
